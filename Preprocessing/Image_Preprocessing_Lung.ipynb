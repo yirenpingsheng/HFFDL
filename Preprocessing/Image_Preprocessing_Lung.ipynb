{
 "cells": [
  {
   "cell_type": "code",
   "execution_count": null,
   "id": "146090f3",
   "metadata": {},
   "outputs": [],
   "source": [
    "import os\n",
    "import shutil\n",
    "import random\n",
    "from PIL import Image\n",
    "import numpy as np"
   ]
  },
  {
   "cell_type": "code",
   "execution_count": null,
   "id": "1f9f1a44",
   "metadata": {},
   "outputs": [],
   "source": [
    "path1 = '../Data/unet-keras/datasets/Study3/Lung Segmentation/masks/'\n",
    "path2 = '../Data/unet-keras/datasets/Study3/Lung Segmentation/CXR_png/'\n",
    "dst1 = '../Data/unet-keras/VOCdevkit/Study3/SegmentationClass/'\n",
    "dst2 = '../Data/unet-keras/VOCdevkit/Study3/JPEGImages/'"
   ]
  },
  {
   "cell_type": "code",
   "execution_count": null,
   "id": "99be367e",
   "metadata": {},
   "outputs": [],
   "source": [
    "files = os.listdir(path1)\n",
    "s200 = random.sample(files,200)"
   ]
  },
  {
   "cell_type": "code",
   "execution_count": null,
   "id": "c7f0e263",
   "metadata": {},
   "outputs": [],
   "source": [
    "s200"
   ]
  },
  {
   "cell_type": "code",
   "execution_count": null,
   "id": "587698a6",
   "metadata": {},
   "outputs": [],
   "source": [
    "img1 = Image.open(path1+s200[0])"
   ]
  },
  {
   "cell_type": "code",
   "execution_count": null,
   "id": "bb91eb62",
   "metadata": {
    "scrolled": true
   },
   "outputs": [],
   "source": [
    "img1"
   ]
  },
  {
   "cell_type": "code",
   "execution_count": null,
   "id": "be3ad531",
   "metadata": {},
   "outputs": [],
   "source": [
    "array1 = np.asarray(img1)"
   ]
  },
  {
   "cell_type": "code",
   "execution_count": null,
   "id": "b30616da",
   "metadata": {},
   "outputs": [],
   "source": [
    "np.sum(array1)"
   ]
  },
  {
   "cell_type": "code",
   "execution_count": null,
   "id": "939a5bae",
   "metadata": {},
   "outputs": [],
   "source": [
    "input_array2 = array1.copy()\n",
    "input_array2[input_array2>0]=1\n",
    "output_img = Image.fromarray(input_array2)"
   ]
  },
  {
   "cell_type": "code",
   "execution_count": null,
   "id": "f0d32b55",
   "metadata": {
    "scrolled": true
   },
   "outputs": [],
   "source": [
    "output_img"
   ]
  },
  {
   "cell_type": "code",
   "execution_count": null,
   "id": "01220575",
   "metadata": {},
   "outputs": [],
   "source": [
    "np.sum(output_img)"
   ]
  },
  {
   "cell_type": "code",
   "execution_count": null,
   "id": "623107fd",
   "metadata": {},
   "outputs": [],
   "source": [
    "for item in files:\n",
    "    \n",
    "    input_img = Image.open(path1+item)\n",
    "    input_array = np.asarray(input_img)\n",
    "    input_array2 = input_array.copy()\n",
    "    input_array2[input_array2>0]=1\n",
    "    output_img = Image.fromarray(input_array2)\n",
    "    \n",
    "    \n",
    "    if 'mask' in item:\n",
    "        item3 = item[:-9]+'.png'\n",
    "    else:\n",
    "        item3 = item\n",
    "        \n",
    "    output_img.save(dst1+item3,quality=100)\n",
    "\n",
    "\n",
    "    \n",
    "    if 'mask' in item:\n",
    "        item2 = item[:-9]+'.png'\n",
    "    else:\n",
    "        item2 = item\n",
    "    input_img = Image.open(path2+item2)\n",
    "    img = input_img.convert('RGB')\n",
    "    img.save(dst2+item2[:-4]+'.jpg',quality=100)"
   ]
  },
  {
   "cell_type": "code",
   "execution_count": null,
   "id": "7065f816",
   "metadata": {},
   "outputs": [],
   "source": [
    "import cv2\n",
    "import os"
   ]
  },
  {
   "cell_type": "code",
   "execution_count": null,
   "id": "0abac585",
   "metadata": {},
   "outputs": [],
   "source": [
    "img_unet = '../Data/unet-keras/datasets/Study3/Lung Segmentation/unet/'\n",
    "img_org = '../Data/unet-keras/datasets/Study3/Lung Segmentation/CXR_png/'\n",
    "dst_crop = '../Data/Data/Lung_Crop/'\n",
    "for item in os.listdir(img_unet):\n",
    "    jpg_path = img_unet + item\n",
    "    image = cv2.imread(jpg_path)\n",
    "    img = cv2.cvtColor(image, cv2.COLOR_BGR2GRAY)\n",
    "    ret, thresh = cv2.threshold(img, 1, 255, cv2.THRESH_BINARY_INV)\n",
    "    contours, hierarchy = cv2.findContours(thresh, cv2.RETR_TREE, cv2.CHAIN_APPROX_SIMPLE)\n",
    "    x1 = []\n",
    "    y1 = []\n",
    "    x2 = []\n",
    "    y2 = []\n",
    "    print(item)\n",
    "    for c in contours:\n",
    "\n",
    "        x, y, w, h = cv2.boundingRect(c)  \n",
    "\n",
    "        if x != 0 and y != 0 and w != image.shape[1] and h != image.shape[0]:\n",
    "\n",
    "            x1.append(x)\n",
    "            y1.append(y)\n",
    "            x2.append(x + w)\n",
    "            y2.append(y + h)\n",
    "    if x1:\n",
    "        x11 = min(x1)\n",
    "        y11 = min(y1)\n",
    "        x22 = max(x2)\n",
    "        y22 = max(y2)\n",
    "\n",
    "\n",
    "        img2 = cv2.imread(img_org+item)\n",
    "        cv2.imwrite(dst_crop+item[:-4]+'.jpg', img2[y11:y22,x11:x22])\n",
    "    cv2.waitKey(0)"
   ]
  },
  {
   "cell_type": "code",
   "execution_count": null,
   "id": "37fbb3d4",
   "metadata": {},
   "outputs": [],
   "source": [
    "import cv2\n",
    "from PIL import Image\n",
    "import os\n",
    "import numpy as np\n",
    "import pandas as pd\n",
    "import cv2"
   ]
  },
  {
   "cell_type": "code",
   "execution_count": null,
   "id": "ae126d0b",
   "metadata": {},
   "outputs": [],
   "source": [
    "lung_crop = '../Data/Lung_Crop/'"
   ]
  },
  {
   "cell_type": "code",
   "execution_count": null,
   "id": "355cd777",
   "metadata": {},
   "outputs": [],
   "source": [
    "X = []\n",
    "Y = []\n",
    "img_size = (150,150,3)\n",
    "\n",
    "for img in os.listdir(lung_crop):\n",
    "    \n",
    "    label = img.split('.')[0][-1]\n",
    "    img_path = lung_crop + img\n",
    "    print(img_path,label)"
   ]
  },
  {
   "cell_type": "code",
   "execution_count": null,
   "id": "1e7250a7",
   "metadata": {},
   "outputs": [],
   "source": [
    "X = []\n",
    "Y = []\n",
    "img_size = (150,150,3)\n",
    "\n",
    "for img in os.listdir(lung_crop):\n",
    "    \n",
    "    label = img.split('.')[0][-1]\n",
    "    img_path = lung_crop + img\n",
    "    img = cv2.imread(img_path , 1)\n",
    "    img2 = cv2.resize(src=img,dsize=img_size[:2])\n",
    "    X.append(img2)\n",
    "    Y.append(label)"
   ]
  },
  {
   "cell_type": "code",
   "execution_count": null,
   "id": "3b4c6373",
   "metadata": {},
   "outputs": [],
   "source": [
    "np.save('/media/wai/d22/Embryo/Data/xray_lung_Unet_Crop_150_X.npy',X)\n",
    "np.save('/media/wai/d22/Embryo/Data/xray_lung_single_Unet_Crop_150_Y.npy',Y)"
   ]
  },
  {
   "cell_type": "code",
   "execution_count": null,
   "id": "0a738600",
   "metadata": {},
   "outputs": [],
   "source": [
    "lung_org = '../Data/Lung Segmentation/CXR_png/'"
   ]
  },
  {
   "cell_type": "code",
   "execution_count": null,
   "id": "03226cab",
   "metadata": {},
   "outputs": [],
   "source": [
    "X = []\n",
    "Y = []\n",
    "img_size = (150,150,3)\n",
    "#img_size = (224,224,3)\n",
    "for img in os.listdir(lung_org):\n",
    "    \n",
    "    label = img.split('.')[0][-1]\n",
    "    img_path = lung_org + img\n",
    "    img = cv2.imread(img_path , 1)\n",
    "    img2 = cv2.resize(src=img,dsize=img_size[:2])\n",
    "    X.append(img2)\n",
    "    Y.append(label)"
   ]
  },
  {
   "cell_type": "code",
   "execution_count": null,
   "id": "79c6cbcb",
   "metadata": {},
   "outputs": [],
   "source": [
    "np.save('../Data/xray_lung_org_150_X.npy',X)\n",
    "np.save('../xray_lung_single_org_150_Y.npy',Y)"
   ]
  },
  {
   "cell_type": "code",
   "execution_count": null,
   "id": "0752e479",
   "metadata": {},
   "outputs": [],
   "source": [
    "import os\n",
    "import numpy as np\n",
    "import cv2\n",
    "from PIL import Image\n",
    "import pandas as pd"
   ]
  },
  {
   "cell_type": "code",
   "execution_count": null,
   "id": "aba8a60f",
   "metadata": {
    "scrolled": true
   },
   "outputs": [],
   "source": [
    "df1 = pd.read_csv('../Data/COVID CXR/train.txt',sep=' ',names=['No','Name','Result','Source'])"
   ]
  },
  {
   "cell_type": "code",
   "execution_count": null,
   "id": "1d232b1b",
   "metadata": {},
   "outputs": [],
   "source": [
    "import random"
   ]
  },
  {
   "cell_type": "code",
   "execution_count": null,
   "id": "50dd987b",
   "metadata": {},
   "outputs": [],
   "source": [
    "df6000 = df1.sample(n=6000)"
   ]
  },
  {
   "cell_type": "code",
   "execution_count": null,
   "id": "081760fa",
   "metadata": {},
   "outputs": [],
   "source": [
    "df6000.groupby(by='Result').count()"
   ]
  },
  {
   "cell_type": "code",
   "execution_count": null,
   "id": "865167b0",
   "metadata": {},
   "outputs": [],
   "source": [
    "import shutil"
   ]
  },
  {
   "cell_type": "code",
   "execution_count": null,
   "id": "0ab7926a",
   "metadata": {},
   "outputs": [],
   "source": [
    "for i,row in df6000.iterrows():\n",
    "    img_path = '../Data/COVID CXR/train/'\n",
    "    img_dst = '../Data/COVID CXR/train_6000/'\n",
    "    shutil.copyfile(img_path+row['Name'],img_dst+row['Name'])"
   ]
  },
  {
   "cell_type": "code",
   "execution_count": null,
   "id": "4a0de7b1",
   "metadata": {},
   "outputs": [],
   "source": [
    "img_dst = '../Data/COVID CXR/train_6000/'\n",
    "img_list = os.listdir(img_dst)"
   ]
  },
  {
   "cell_type": "code",
   "execution_count": null,
   "id": "bfb78ad0",
   "metadata": {},
   "outputs": [],
   "source": [
    "df6000 = df1[df1['Name'].isin(img_list)]\n",
    "df6000"
   ]
  },
  {
   "cell_type": "code",
   "execution_count": null,
   "id": "aaba6c9f",
   "metadata": {},
   "outputs": [],
   "source": [
    "df6000.to_csv('../Data/COVID CXR/train_6000.csv',index=False)"
   ]
  },
  {
   "cell_type": "code",
   "execution_count": null,
   "id": "9927c4d6",
   "metadata": {
    "scrolled": true
   },
   "outputs": [],
   "source": [
    "df6000 = pd.read_csv('../Data/COVID CXR/train_6000.csv')\n",
    "df6000"
   ]
  },
  {
   "cell_type": "code",
   "execution_count": null,
   "id": "a2aeb4dd",
   "metadata": {
    "scrolled": true
   },
   "outputs": [],
   "source": [
    "df6000.groupby(by=['Source','Result']).count()"
   ]
  },
  {
   "cell_type": "code",
   "execution_count": null,
   "id": "e4c96e72",
   "metadata": {},
   "outputs": [],
   "source": [
    "df6000.groupby(by=['Result']).count()"
   ]
  },
  {
   "cell_type": "code",
   "execution_count": null,
   "id": "6386f96d",
   "metadata": {},
   "outputs": [],
   "source": [
    "X = []\n",
    "Y = []\n",
    "img_size = (150,150,3)\n",
    "\n",
    "for i,row in df6000.iterrows():\n",
    "    img = '../Data/COVID CXR/train_6000/'+row['Name']\n",
    "    \n",
    "    label = row['Result']\n",
    "    img = cv2.imread(img, 1)\n",
    "    img2 = cv2.resize(src=img,dsize=img_size[:2])\n",
    "    X.append(img2)\n",
    "    if label == 'negative':\n",
    "        Y.append(0)\n",
    "    else:\n",
    "        Y.append(1)\n"
   ]
  },
  {
   "cell_type": "code",
   "execution_count": null,
   "id": "ade1afc0",
   "metadata": {},
   "outputs": [],
   "source": [
    "len(X)"
   ]
  },
  {
   "cell_type": "code",
   "execution_count": null,
   "id": "b5437185",
   "metadata": {
    "scrolled": true
   },
   "outputs": [],
   "source": [
    "X[1].shape"
   ]
  },
  {
   "cell_type": "code",
   "execution_count": null,
   "id": "cb46eeb5",
   "metadata": {},
   "outputs": [],
   "source": [
    "np.save('../Data/COVID CXR/covid_lung_Unet_Crop_150_X.npy',X)\n",
    "np.save('../Data/COVID CXR/covid_lung_single_Unet_Crop_150_Y.npy',Y)"
   ]
  },
  {
   "cell_type": "markdown",
   "id": "b81831bf",
   "metadata": {},
   "source": [
    "### COVID Chest Xray"
   ]
  },
  {
   "cell_type": "code",
   "execution_count": null,
   "id": "f26b165c",
   "metadata": {},
   "outputs": [],
   "source": [
    "import os\n",
    "import shutil\n",
    "import random\n",
    "from PIL import Image\n",
    "import numpy as np\n",
    "import cv2"
   ]
  },
  {
   "cell_type": "code",
   "execution_count": null,
   "id": "04d4ff73",
   "metadata": {},
   "outputs": [],
   "source": [
    "img_unet = '../Data/COVID CXR/train_6000_crop/'\n",
    "img_org = '../Data/COVID CXR/train_6000/'\n",
    "dst_crop = '../Data/COVID CXR/train_6000_crop_finish/'"
   ]
  },
  {
   "cell_type": "code",
   "execution_count": null,
   "id": "e70f707a",
   "metadata": {},
   "outputs": [],
   "source": [
    "os.path.exists(dst_crop+item)"
   ]
  },
  {
   "cell_type": "code",
   "execution_count": null,
   "id": "cc4dc763",
   "metadata": {},
   "outputs": [],
   "source": [
    "len(os.listdir(img_unet))"
   ]
  },
  {
   "cell_type": "code",
   "execution_count": null,
   "id": "99a21690",
   "metadata": {},
   "outputs": [],
   "source": [
    "i=0\n",
    "for item in os.listdir(img_unet):\n",
    "    if not os.path.exists(dst_crop+item[:-4]+'.jpg'):\n",
    "        print(i,item)\n",
    "        i+=1\n",
    "        img = cv2.imread(img_unet+item)\n",
    "        cv2.imwrite(dst_crop+item[:-4]+'.jpg',img)"
   ]
  },
  {
   "cell_type": "code",
   "execution_count": null,
   "id": "be7aed4a",
   "metadata": {
    "scrolled": true
   },
   "outputs": [],
   "source": [
    "\n",
    "for item in os.listdir(img_unet):\n",
    "    jpg_path = img_unet + item\n",
    "    image = cv2.imread(jpg_path)\n",
    "    img = cv2.cvtColor(image, cv2.COLOR_BGR2GRAY)\n",
    "    ret, thresh = cv2.threshold(img, 1, 255, cv2.THRESH_BINARY_INV)\n",
    "    contours, hierarchy = cv2.findContours(thresh, cv2.RETR_TREE, cv2.CHAIN_APPROX_SIMPLE)\n",
    "    x1 = []\n",
    "    y1 = []\n",
    "    x2 = []\n",
    "    y2 = []\n",
    "    print(item)\n",
    "    for c in contours:\n",
    "\n",
    "        x, y, w, h = cv2.boundingRect(c)  \n",
    "\n",
    "        if x != 0 and y != 0 and w != image.shape[1] and h != image.shape[0]:\n",
    " \n",
    "            x1.append(x)\n",
    "            y1.append(y)\n",
    "            x2.append(x + w)\n",
    "            y2.append(y + h)\n",
    "    if x1:\n",
    "        x11 = min(x1)\n",
    "        y11 = min(y1)\n",
    "        x22 = max(x2)\n",
    "        y22 = max(y2)\n",
    "\n",
    "\n",
    "        img2 = cv2.imread(img_org+item)\n",
    "        cv2.imwrite(dst_crop+item[:-4]+'.jpg', img2[y11:y22,x11:x22])\n",
    "    else:\n",
    "        shutil.copyfile(jpg_path,dst_crop+item[:-4]+'.jpg')\n",
    "    cv2.waitKey(0)"
   ]
  },
  {
   "cell_type": "code",
   "execution_count": null,
   "id": "81b74974",
   "metadata": {},
   "outputs": [],
   "source": [
    "import pandas as pd\n",
    "df6000 = pd.read_csv('../Data/COVID CXR/train_6000.csv')"
   ]
  },
  {
   "cell_type": "code",
   "execution_count": null,
   "id": "bbe12d59",
   "metadata": {},
   "outputs": [],
   "source": [
    "X = []\n",
    "Y = []\n",
    "img_size = (150,150,3)\n",
    "\n",
    "for i,row in df6000.iterrows():\n",
    "    img = dst_crop +row['Name'][:-4]+'.jpg'\n",
    "    \n",
    "    label = row['Result']\n",
    "    img = cv2.imread(img, 1)\n",
    "    img2 = cv2.resize(src=img,dsize=img_size[:2])\n",
    "    X.append(img2)\n",
    "    if label == 'negative':\n",
    "        Y.append(0)\n",
    "    else:\n",
    "        Y.append(1)"
   ]
  },
  {
   "cell_type": "code",
   "execution_count": null,
   "id": "d87cca2d",
   "metadata": {},
   "outputs": [],
   "source": [
    "np.save('../Data/COVID CXR/covid_lung_Unet_Crop_finish_150_X.npy',X)\n",
    "np.save('../Data/COVID CXR/covid_lung_Unet_Crop_finish_150_Y.npy',Y)"
   ]
  },
  {
   "cell_type": "code",
   "execution_count": null,
   "id": "aef1c01a",
   "metadata": {},
   "outputs": [],
   "source": [
    "X = []\n",
    "Y = []\n",
    "img_size = (150,150,3)\n",
    "\n",
    "for i,row in df6000.iterrows():\n",
    "    img = img_org +row['Name']\n",
    "    \n",
    "    label = row['Result']\n",
    "    img = cv2.imread(img, 1)\n",
    "    img2 = cv2.resize(src=img,dsize=img_size[:2])\n",
    "    X.append(img2)\n",
    "    if label == 'negative':\n",
    "        Y.append(0)\n",
    "    else:\n",
    "        Y.append(1)"
   ]
  },
  {
   "cell_type": "code",
   "execution_count": null,
   "id": "a8ff8248",
   "metadata": {},
   "outputs": [],
   "source": [
    "np.save('../Data/COVID CXR/covid_org6000_150_X.npy',X)\n",
    "np.save('../Data/COVID CXR/covid_org6000_150_Y.npy',Y)"
   ]
  },
  {
   "cell_type": "markdown",
   "id": "b0556601",
   "metadata": {},
   "source": [
    "### Extract Features"
   ]
  },
  {
   "cell_type": "code",
   "execution_count": null,
   "id": "b613c4f8",
   "metadata": {},
   "outputs": [],
   "source": [
    "import os\n",
    "import numpy as np\n",
    "import pandas as pd\n",
    "import cv2\n",
    "from PIL import Image\n",
    "import matplotlib.pyplot as plt\n",
    "import skimage#0.17.2, pytorch kernel\n",
    "from skimage.feature import greycomatrix, greycoprops,hog,local_binary_pattern"
   ]
  },
  {
   "cell_type": "code",
   "execution_count": null,
   "id": "a475d183",
   "metadata": {
    "scrolled": true
   },
   "outputs": [],
   "source": [
    "images = np.load('../Data/COVID CXR/covid_org6000_150_X.npy')"
   ]
  },
  {
   "cell_type": "code",
   "execution_count": null,
   "id": "02ce9e87",
   "metadata": {
    "scrolled": true
   },
   "outputs": [],
   "source": [
    "\n",
    "imgs_hog = []\n",
    "\n",
    "for img in images:\n",
    "\n",
    "\n",
    "\n",
    "    hog_value = hog(img,orientations=5,pixels_per_cell=(25, 25),cells_per_block=(5, 5))\n",
    "    imgs_hog.append(hog_value)"
   ]
  },
  {
   "cell_type": "code",
   "execution_count": null,
   "id": "d53b3537",
   "metadata": {},
   "outputs": [],
   "source": [
    "np.save(\"../Data/COVID CXR/covid_org6000_150_hog.npy\",imgs_hog)"
   ]
  },
  {
   "cell_type": "code",
   "execution_count": null,
   "id": "21b130c5",
   "metadata": {},
   "outputs": [],
   "source": [
    "imgs_texture = []\n",
    "\n",
    "imgs_lbp = []\n",
    "for img in images:\n",
    "    gray = cv2.cvtColor(img,cv2.COLOR_BGR2GRAY)\n",
    "    comatrix = greycomatrix(gray, [1], [0, np.pi/4, np.pi/2, 3*np.pi/4])\n",
    "    list_texture = []\n",
    "    for prop in {'contrast', 'dissimilarity', 'homogeneity', 'energy','correlation', 'ASM'}:\n",
    "        list_texture.extend(list(greycoprops(comatrix,prop)[0]))\n",
    "    imgs_texture.append(np.asarray(list_texture))\n",
    "    lbp = local_binary_pattern(gray,25,5)\n",
    "    imgs_lbp.append(lbp)"
   ]
  },
  {
   "cell_type": "code",
   "execution_count": null,
   "id": "9c8a7414",
   "metadata": {},
   "outputs": [],
   "source": [
    "np.save(\"../Data/COVID CXR/covid_org6000_150_texture.npy\",imgs_texture)\n",
    "np.save(\"../Data/COVID CXR/covid_org6000_150_lbp.npy\",imgs_lbp)"
   ]
  },
  {
   "cell_type": "code",
   "execution_count": null,
   "id": "c9a99fb5",
   "metadata": {},
   "outputs": [],
   "source": []
  }
 ],
 "metadata": {
  "kernelspec": {
   "display_name": "Python 3 (ipykernel)",
   "language": "python",
   "name": "python3"
  },
  "language_info": {
   "codemirror_mode": {
    "name": "ipython",
    "version": 3
   },
   "file_extension": ".py",
   "mimetype": "text/x-python",
   "name": "python",
   "nbconvert_exporter": "python",
   "pygments_lexer": "ipython3",
   "version": "3.8.5"
  }
 },
 "nbformat": 4,
 "nbformat_minor": 5
}
