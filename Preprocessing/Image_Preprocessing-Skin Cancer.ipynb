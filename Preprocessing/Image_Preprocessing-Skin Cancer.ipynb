{
 "cells": [
  {
   "cell_type": "markdown",
   "id": "b65b67b7",
   "metadata": {},
   "source": [
    "### Data sample"
   ]
  },
  {
   "cell_type": "code",
   "execution_count": null,
   "id": "c67f010b",
   "metadata": {},
   "outputs": [],
   "source": [
    "import pandas as pd\n",
    "import numpy as np\n",
    "from PIL import Image\n",
    "import os\n",
    "import cv2\n",
    "from random import sample"
   ]
  },
  {
   "cell_type": "code",
   "execution_count": null,
   "id": "1f4432ff",
   "metadata": {},
   "outputs": [],
   "source": [
    "path = '../Data/ISIC 2019 Skin/'"
   ]
  },
  {
   "cell_type": "code",
   "execution_count": null,
   "id": "05d1e816",
   "metadata": {},
   "outputs": [],
   "source": [
    "category = ['BCC','BKL','MEL','NV']"
   ]
  },
  {
   "cell_type": "code",
   "execution_count": null,
   "id": "2e1151b1",
   "metadata": {},
   "outputs": [],
   "source": [
    "from random import sample"
   ]
  },
  {
   "cell_type": "code",
   "execution_count": null,
   "id": "b5aa939e",
   "metadata": {},
   "outputs": [],
   "source": [
    "Xb = []\n",
    "Yb = []\n",
    "\n",
    "img_size = (150,150,3)\n",
    "\n",
    "bcc = sample(os.listdir(path+category[0]),2500)\n",
    "for img_name in bcc:\n",
    "    img_path = path + category[0] + '/' +img_name\n",
    "    img = cv2.imread(img_path, 1)\n",
    "    img2 = cv2.resize(src=img,dsize=(img_size[0],img_size[1]))\n",
    "\n",
    "    Xb.append(img2)\n",
    "    Yb.append('BCC')\n",
    "\n",
    "bkl = sample(os.listdir(path+category[1]),2500)\n",
    "for img_name in bkl:\n",
    "    img_path = path + category[1] + '/' + img_name\n",
    "    img = cv2.imread(img_path, 1)\n",
    "    img2 = cv2.resize(src=img,dsize=(img_size[0],img_size[1]))\n",
    "    Xb.append(img2)\n",
    "    Yb.append('BKL')\n",
    "\n",
    "mel = sample(os.listdir(path+category[2]),2500)    \n",
    "for img_name in mel:\n",
    "    img_path = path + category[2] + '/' + img_name\n",
    "    img = cv2.imread(img_path, 1)\n",
    "    img2 = cv2.resize(src=img,dsize=(img_size[0],img_size[1]))\n",
    "    Xb.append(img2)\n",
    "    Yb.append('MEL')\n",
    "    \n",
    "    \n",
    "nv = sample(os.listdir(path+category[3]),2500)    \n",
    "for img_name in nv:\n",
    "    img_path = path + category[3] + '/' + img_name\n",
    "    img = cv2.imread(img_path, 1)\n",
    "    img2 = cv2.resize(src=img,dsize=(img_size[0],img_size[1]))\n",
    "    Xb.append(img2)\n",
    "    Yb.append('NV')"
   ]
  },
  {
   "cell_type": "code",
   "execution_count": null,
   "id": "6784bc25",
   "metadata": {},
   "outputs": [],
   "source": [
    "np.save(\"../Data/Skin_Cancer/X_Skin_ISIC_Multi_\" + str(img_size[0]) + \".npy\",Xb)\n",
    "np.save(\"../Data/Skin_Cancer/Y_Skin_ISIC_Multi_\" + str(img_size[0]) + \".npy\",Yb)"
   ]
  },
  {
   "cell_type": "markdown",
   "id": "38743799",
   "metadata": {},
   "source": [
    "### Extract Features"
   ]
  },
  {
   "cell_type": "code",
   "execution_count": null,
   "id": "6261e119",
   "metadata": {},
   "outputs": [],
   "source": [
    "images = np.load('../Data/Skin_Cancer/X_Skin_ISIC_Multi_150.npy')"
   ]
  },
  {
   "cell_type": "code",
   "execution_count": null,
   "id": "6374de3f",
   "metadata": {},
   "outputs": [],
   "source": [
    "imgs_hog = []\n",
    "\n",
    "for img in images:\n",
    "\n",
    "\n",
    "\n",
    "    hog_value = hog(img,orientations=5,pixels_per_cell=(25, 25),cells_per_block=(5, 5))\n",
    "    imgs_hog.append(hog_value)"
   ]
  },
  {
   "cell_type": "code",
   "execution_count": null,
   "id": "815b52cb",
   "metadata": {},
   "outputs": [],
   "source": [
    "np.save(\"../Data/Skin_Cancer/X_Skin_Multi_150_hog.npy\",imgs_hog)"
   ]
  },
  {
   "cell_type": "code",
   "execution_count": null,
   "id": "a25c7aca",
   "metadata": {},
   "outputs": [],
   "source": [
    "imgs_texture = []\n",
    "\n",
    "imgs_lbp = []\n",
    "for img in images:\n",
    "    gray = cv2.cvtColor(img,cv2.COLOR_BGR2GRAY)\n",
    "    comatrix = greycomatrix(gray, [1], [0, np.pi/4, np.pi/2, 3*np.pi/4])\n",
    "    list_texture = []\n",
    "    for prop in {'contrast', 'dissimilarity', 'homogeneity', 'energy','correlation', 'ASM'}:\n",
    "        list_texture.extend(list(greycoprops(comatrix,prop)[0]))\n",
    "    imgs_texture.append(np.asarray(list_texture))\n",
    "    lbp = local_binary_pattern(gray,25,5)\n",
    "    imgs_lbp.append(lbp)"
   ]
  },
  {
   "cell_type": "code",
   "execution_count": null,
   "id": "94bd82ca",
   "metadata": {},
   "outputs": [],
   "source": [
    "np.save(\"../Data/Skin_Cancer/X_Skin_Multi_150_texture.npy\",imgs_texture)\n",
    "np.save(\"../Data/Skin_Cancer/X_Skin_Multi_150_lbp.npy\",imgs_lbp)"
   ]
  }
 ],
 "metadata": {
  "kernelspec": {
   "display_name": "Python 3 (ipykernel)",
   "language": "python",
   "name": "python3"
  },
  "language_info": {
   "codemirror_mode": {
    "name": "ipython",
    "version": 3
   },
   "file_extension": ".py",
   "mimetype": "text/x-python",
   "name": "python",
   "nbconvert_exporter": "python",
   "pygments_lexer": "ipython3",
   "version": "3.8.5"
  }
 },
 "nbformat": 4,
 "nbformat_minor": 5
}
