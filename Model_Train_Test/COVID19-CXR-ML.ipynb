{
 "cells": [
  {
   "cell_type": "code",
   "execution_count": null,
   "id": "853311ea",
   "metadata": {
    "scrolled": true
   },
   "outputs": [],
   "source": [
    "import os\n",
    "import shutil\n",
    "import cv2\n",
    "import numpy as np\n",
    "import pandas as pd\n",
    "import tensorflow as tf\n"
   ]
  },
  {
   "cell_type": "code",
   "execution_count": null,
   "id": "25816172",
   "metadata": {},
   "outputs": [],
   "source": [
    "import pandas as pd\n",
    "from sklearn.model_selection import train_test_split\n",
    "from sklearn.preprocessing import StandardScaler\n",
    "from sklearn.datasets import make_moons, make_circles, make_classification\n",
    "from sklearn.neural_network import MLPClassifier\n",
    "from sklearn.svm import SVC\n",
    "from sklearn.gaussian_process.kernels import RBF"
   ]
  },
  {
   "cell_type": "code",
   "execution_count": null,
   "id": "6fa3acc8",
   "metadata": {
    "scrolled": true
   },
   "outputs": [],
   "source": [
    "import sklearn\n",
    "from sklearn.model_selection import StratifiedKFold\n",
    "from sklearn.metrics import roc_auc_score\n",
    "from tensorflow.keras.callbacks import ReduceLROnPlateau,EarlyStopping\n"
   ]
  },
  {
   "cell_type": "code",
   "execution_count": null,
   "id": "de4acd5b",
   "metadata": {},
   "outputs": [],
   "source": [
    "import numpy as np\n",
    "x1 = np.load('../Data/COVID CXR/COVID19_org6000_150_texture.npy')\n",
    "x2 = np.load('../Data/COVID CXR/COVID19_org6000_150_lbp.npy')\n",
    "x2 = np.asarray([x.reshape(150*150) for x in x2])\n"
   ]
  },
  {
   "cell_type": "code",
   "execution_count": null,
   "id": "58c100f1",
   "metadata": {},
   "outputs": [],
   "source": [
    "x3 = np.load('../Data/COVID CXR/covid_org6000_150_hog.npy')\n",
    "y = np.load('../Data/COVID CXR/covid_org6000_150_Y.npy')"
   ]
  },
  {
   "cell_type": "code",
   "execution_count": null,
   "id": "31743e7b",
   "metadata": {},
   "outputs": [],
   "source": [
    "from random import sample\n",
    "\n",
    "index = [i for i in range(x1.shape[0])]\n",
    "np.random.shuffle(index) \n",
    "\n",
    "\n",
    "x12 = x1[index]\n",
    "x22 = x2[index]\n",
    "x32 = x3[index]\n",
    "y2 = y[index]"
   ]
  },
  {
   "cell_type": "markdown",
   "id": "1d676bfe",
   "metadata": {},
   "source": [
    "### MLP"
   ]
  },
  {
   "cell_type": "code",
   "execution_count": null,
   "id": "b3b6ba15",
   "metadata": {},
   "outputs": [],
   "source": [
    "seed = 101\n",
    "kfold = StratifiedKFold(n_splits=5, shuffle=True, random_state=seed)\n",
    "\n",
    "cvacc_mlp = []\n",
    "cvauc_mlp = []\n",
    "i = 1\n",
    "\n",
    "\n",
    "for train, test in kfold.split(x12,y2):\n",
    "    \n",
    "    \n",
    "    mlp = MLPClassifier(hidden_layer_sizes=(32,32),alpha=1, max_iter=1000).fit(x12[train], y2[train])\n",
    "    mlp_acc = mlp.score(x12[test], y2[test]) \n",
    "    mlp_pred = mlp.predict(x12[test])\n",
    "    mlp_prob = mlp.predict_proba(x12[test])\n",
    "    mlp_auc = roc_auc_score(y2[test],[x[1] for x in mlp_prob])\n",
    "    with open('../Data/models/150_{0}_single_mlp_texture.csv'.format(str(i)),'w') as file:\n",
    "        file.write('true_label,predict_label'+'\\n')\n",
    "        for a,b in zip(y2[test],mlp_prob):\n",
    "            file.write(str(a) + ','+str(b[1])+'\\n')\n",
    "    \n",
    "\n",
    "    cvacc_mlp.append(mlp_acc * 100)\n",
    "    cvauc_mlp.append(mlp_auc)\n",
    "    i+=1\n",
    "print(\"mean acc %.2f%% (+/- %.2f%%)\" % (np.mean(cvacc_mlp), np.std(cvacc_mlp)))\n",
    "print(\"mean auc %.2f%% (+/- %.2f%%)\" % (np.mean(cvauc_mlp), np.std(cvauc_mlp)))"
   ]
  },
  {
   "cell_type": "code",
   "execution_count": null,
   "id": "d2df3559",
   "metadata": {
    "scrolled": true
   },
   "outputs": [],
   "source": [
    "cvacc_mlp"
   ]
  },
  {
   "cell_type": "code",
   "execution_count": null,
   "id": "4c5dd0a0",
   "metadata": {},
   "outputs": [],
   "source": [
    "np.mean(cvacc_mlp)"
   ]
  },
  {
   "cell_type": "code",
   "execution_count": null,
   "id": "585c331f",
   "metadata": {},
   "outputs": [],
   "source": [
    "cvauc_mlp"
   ]
  },
  {
   "cell_type": "code",
   "execution_count": null,
   "id": "e4ae208a",
   "metadata": {},
   "outputs": [],
   "source": [
    "np.mean(cvauc_mlp)"
   ]
  },
  {
   "cell_type": "code",
   "execution_count": null,
   "id": "e20e70b6",
   "metadata": {},
   "outputs": [],
   "source": [
    "import numpy as np\n",
    "import pandas as pd\n",
    "from sklearn.metrics import confusion_matrix,accuracy_score,f1_score,roc_auc_score,recall_score,precision_score"
   ]
  },
  {
   "cell_type": "code",
   "execution_count": null,
   "id": "daab97ad",
   "metadata": {},
   "outputs": [],
   "source": [
    "def calculate_metric(gt, pred): \n",
    "    pred2 = []\n",
    "    for i in pred:\n",
    "        if i>0.5:\n",
    "            pred2.append(1)\n",
    "        else:\n",
    "            pred2.append(0)\n",
    "    confusion = confusion_matrix(gt,pred2)\n",
    "    TP = confusion[1, 1]\n",
    "    TN = confusion[0, 0]\n",
    "    FP = confusion[0, 1]\n",
    "    FN = confusion[1, 0]\n",
    "    acc = (TP+TN)/float(TP+TN+FP+FN)\n",
    "    auc = roc_auc_score(gt,pred)\n",
    "    precision = TP/float(TP+FP)\n",
    "    f1_score_ = f1_score(gt,pred2)\n",
    "    sensitivity = TP / float(TP+FN)\n",
    "    specificity = TN / float(TN+FP)\n",
    "    \n",
    "    return round(acc,4),round(auc,4),round(f1_score_,4), round(precision,4),round(sensitivity,4), round(specificity,4)"
   ]
  },
  {
   "cell_type": "code",
   "execution_count": null,
   "id": "23e8cc1d",
   "metadata": {},
   "outputs": [],
   "source": [
    "df1 = pd.read_csv('../Data/models/150_1_single_mlp_texture.csv')\n",
    "\n",
    "calculate_metric(df1['true_label'],df1['predict_label'])"
   ]
  },
  {
   "cell_type": "code",
   "execution_count": null,
   "id": "7ffbe3e4",
   "metadata": {},
   "outputs": [],
   "source": [
    "df2 = pd.read_csv('../Data/models/150_2_single_mlp_texture.csv')\n",
    "\n",
    "calculate_metric(df2['true_label'],df2['predict_label'])"
   ]
  },
  {
   "cell_type": "code",
   "execution_count": null,
   "id": "c8de3546",
   "metadata": {},
   "outputs": [],
   "source": [
    "df3 = pd.read_csv('../Data/models/150_3_single_mlp_texture.csv')\n",
    "\n",
    "calculate_metric(df3['true_label'],df3['predict_label'])"
   ]
  },
  {
   "cell_type": "code",
   "execution_count": null,
   "id": "90f2ba66",
   "metadata": {},
   "outputs": [],
   "source": [
    "df4 = pd.read_csv('../Data/models/150_4_single_mlp_texture.csv')\n",
    "\n",
    "calculate_metric(df4['true_label'],df4['predict_label'])"
   ]
  },
  {
   "cell_type": "code",
   "execution_count": null,
   "id": "4d2a7c82",
   "metadata": {},
   "outputs": [],
   "source": [
    "df5 = pd.read_csv('../Data/models/150_5_single_mlp_texture.csv')\n",
    "\n",
    "calculate_metric(df5['true_label'],df5['predict_label'])"
   ]
  },
  {
   "cell_type": "code",
   "execution_count": null,
   "id": "cd5ed6a9",
   "metadata": {},
   "outputs": [],
   "source": [
    "seed = 101\n",
    "kfold = StratifiedKFold(n_splits=5, shuffle=True, random_state=seed)\n",
    "\n",
    "cvacc_mlp = []\n",
    "cvauc_mlp = []\n",
    "i = 1\n",
    "\n",
    "\n",
    "for train, test in kfold.split(x22,y2):\n",
    "    \n",
    "    \n",
    "    mlp = MLPClassifier(hidden_layer_sizes=(32,32),alpha=1, max_iter=1000).fit(x22[train], y2[train])\n",
    "    mlp_acc = mlp.score(x22[test], y2[test]) \n",
    "    mlp_pred = mlp.predict(x22[test])\n",
    "    mlp_prob = mlp.predict_proba(x22[test])\n",
    "    mlp_auc = roc_auc_score(y2[test],[x[1] for x in mlp_prob])\n",
    "    with open('../Data/models/150_{0}_single_mlp_lbp.csv'.format(str(i)),'w') as file:\n",
    "        file.write('true_label,predict_label'+'\\n')\n",
    "        for a,b in zip(y2[test],mlp_prob):\n",
    "            file.write(str(a) + ','+str(b[1])+'\\n')\n",
    "    \n",
    "\n",
    "    cvacc_mlp.append(mlp_acc * 100)\n",
    "    cvauc_mlp.append(mlp_auc)\n",
    "    i+=1\n",
    "print(\"mean acc %.2f%% (+/- %.2f%%)\" % (np.mean(cvacc_mlp), np.std(cvacc_mlp)))\n",
    "print(\"mean auc %.2f%% (+/- %.2f%%)\" % (np.mean(cvauc_mlp), np.std(cvauc_mlp)))"
   ]
  },
  {
   "cell_type": "code",
   "execution_count": null,
   "id": "382eb0dd",
   "metadata": {},
   "outputs": [],
   "source": [
    "cvacc_mlp"
   ]
  },
  {
   "cell_type": "code",
   "execution_count": null,
   "id": "20bcba2d",
   "metadata": {},
   "outputs": [],
   "source": [
    "np.mean(cvacc_mlp)"
   ]
  },
  {
   "cell_type": "code",
   "execution_count": null,
   "id": "1955ba99",
   "metadata": {},
   "outputs": [],
   "source": [
    "cvauc_mlp"
   ]
  },
  {
   "cell_type": "code",
   "execution_count": null,
   "id": "6832b2a9",
   "metadata": {},
   "outputs": [],
   "source": [
    "np.mean(cvauc_mlp)"
   ]
  },
  {
   "cell_type": "code",
   "execution_count": null,
   "id": "1019b3e8",
   "metadata": {},
   "outputs": [],
   "source": [
    "df1 = pd.read_csv('../Data/models/150_1_single_mlp_lbp.csv')\n",
    "\n",
    "calculate_metric(df1['true_label'],df1['predict_label'])"
   ]
  },
  {
   "cell_type": "code",
   "execution_count": null,
   "id": "468ac5ec",
   "metadata": {},
   "outputs": [],
   "source": [
    "df2 = pd.read_csv('../Data/models/150_2_single_mlp_lbp.csv')\n",
    "\n",
    "calculate_metric(df2['true_label'],df2['predict_label'])"
   ]
  },
  {
   "cell_type": "code",
   "execution_count": null,
   "id": "1262a6f7",
   "metadata": {},
   "outputs": [],
   "source": [
    "df3 = pd.read_csv('../Data/models/150_3_single_mlp_lbp.csv')\n",
    "\n",
    "calculate_metric(df3['true_label'],df3['predict_label'])"
   ]
  },
  {
   "cell_type": "code",
   "execution_count": null,
   "id": "8fc3c3b0",
   "metadata": {},
   "outputs": [],
   "source": [
    "df4 = pd.read_csv('../Data/models/150_4_single_mlp_lbp.csv')\n",
    "\n",
    "calculate_metric(df4['true_label'],df4['predict_label'])"
   ]
  },
  {
   "cell_type": "code",
   "execution_count": null,
   "id": "93313029",
   "metadata": {},
   "outputs": [],
   "source": [
    "df5 = pd.read_csv('../Data/models/150_5_single_mlp_lbp.csv')\n",
    "\n",
    "calculate_metric(df5['true_label'],df5['predict_label'])"
   ]
  },
  {
   "cell_type": "code",
   "execution_count": null,
   "id": "79e4091a",
   "metadata": {},
   "outputs": [],
   "source": [
    "seed = 101\n",
    "kfold = StratifiedKFold(n_splits=5, shuffle=True, random_state=seed)\n",
    "\n",
    "cvacc_mlp = []\n",
    "cvauc_mlp = []\n",
    "i = 1\n",
    "\n",
    "\n",
    "for train, test in kfold.split(x32,y2):\n",
    "    \n",
    "    \n",
    "    mlp = MLPClassifier(hidden_layer_sizes=(32,32),alpha=1, max_iter=1000).fit(x32[train], y2[train])\n",
    "    mlp_acc = mlp.score(x32[test], y2[test]) \n",
    "    mlp_pred = mlp.predict(x32[test])\n",
    "    mlp_prob = mlp.predict_proba(x32[test])\n",
    "    mlp_auc = roc_auc_score(y2[test],[x[1] for x in mlp_prob])\n",
    "    with open('../Data/models/150_{0}_single_mlp_hog.csv'.format(str(i)),'w') as file:\n",
    "        file.write('true_label,predict_label'+'\\n')\n",
    "        for a,b in zip(y2[test],mlp_prob):\n",
    "            file.write(str(a) + ','+str(b[1])+'\\n')\n",
    "    \n",
    "\n",
    "    cvacc_mlp.append(mlp_acc * 100)\n",
    "    cvauc_mlp.append(mlp_auc)\n",
    "    i+=1\n",
    "print(\"mean acc %.2f%% (+/- %.2f%%)\" % (np.mean(cvacc_mlp), np.std(cvacc_mlp)))\n",
    "print(\"mean auc %.2f%% (+/- %.2f%%)\" % (np.mean(cvauc_mlp), np.std(cvauc_mlp)))"
   ]
  },
  {
   "cell_type": "code",
   "execution_count": null,
   "id": "872e7da3",
   "metadata": {},
   "outputs": [],
   "source": [
    "cvacc_mlp"
   ]
  },
  {
   "cell_type": "code",
   "execution_count": null,
   "id": "aced90a1",
   "metadata": {
    "scrolled": true
   },
   "outputs": [],
   "source": [
    "np.mean(cvacc_mlp)"
   ]
  },
  {
   "cell_type": "code",
   "execution_count": null,
   "id": "da6a1e41",
   "metadata": {
    "scrolled": true
   },
   "outputs": [],
   "source": [
    "cvauc_mlp"
   ]
  },
  {
   "cell_type": "code",
   "execution_count": null,
   "id": "fdd64bb3",
   "metadata": {},
   "outputs": [],
   "source": [
    "np.mean(cvauc_mlp)"
   ]
  },
  {
   "cell_type": "code",
   "execution_count": null,
   "id": "cd9bb97a",
   "metadata": {},
   "outputs": [],
   "source": [
    "df1 = pd.read_csv('../Data/models/150_1_single_mlp_hog.csv')\n",
    "\n",
    "calculate_metric(df1['true_label'],df1['predict_label'])"
   ]
  },
  {
   "cell_type": "code",
   "execution_count": null,
   "id": "74cbf102",
   "metadata": {},
   "outputs": [],
   "source": [
    "df2 = pd.read_csv('../Data/models/150_2_single_mlp_hog.csv')\n",
    "\n",
    "calculate_metric(df2['true_label'],df2['predict_label'])"
   ]
  },
  {
   "cell_type": "code",
   "execution_count": null,
   "id": "05e4c590",
   "metadata": {},
   "outputs": [],
   "source": [
    "df3 = pd.read_csv('../Data/models/150_3_single_mlp_hog.csv')\n",
    "\n",
    "calculate_metric(df3['true_label'],df3['predict_label'])"
   ]
  },
  {
   "cell_type": "code",
   "execution_count": null,
   "id": "a93d2a72",
   "metadata": {},
   "outputs": [],
   "source": [
    "df4 = pd.read_csv('../Data/models/150_4_single_mlp_hog.csv')\n",
    "\n",
    "calculate_metric(df4['true_label'],df4['predict_label'])"
   ]
  },
  {
   "cell_type": "code",
   "execution_count": null,
   "id": "d0af6491",
   "metadata": {
    "scrolled": true
   },
   "outputs": [],
   "source": [
    "df5 = pd.read_csv('../Data/models/150_5_single_mlp_hog.csv')\n",
    "\n",
    "calculate_metric(df5['true_label'],df5['predict_label'])"
   ]
  },
  {
   "cell_type": "markdown",
   "id": "a3b1696d",
   "metadata": {},
   "source": [
    "### SVM"
   ]
  },
  {
   "cell_type": "code",
   "execution_count": null,
   "id": "c18e36eb",
   "metadata": {},
   "outputs": [],
   "source": [
    "from sklearn.svm import SVC\n",
    "from sklearn.linear_model import LogisticRegression"
   ]
  },
  {
   "cell_type": "code",
   "execution_count": null,
   "id": "f349a592",
   "metadata": {
    "scrolled": true
   },
   "outputs": [],
   "source": [
    "seed = 101\n",
    "kfold = StratifiedKFold(n_splits=5, shuffle=True, random_state=seed)\n",
    "\n",
    "cvacc_svms = []\n",
    "cvauc_svms = []\n",
    "i = 1\n",
    "\n",
    "for train, test in kfold.split(x12,y2):\n",
    "    \n",
    "    \n",
    "    svm_model = SVC(probability=True).fit(x12[train], y2[train])\n",
    "    svms_acc = svm_model.score(x12[test], y2[test]) \n",
    "    svms_pred = svm_model.predict(x12[test])\n",
    "    svms_prob = svm_model.predict_proba(x12[test])\n",
    "    svms_auc = roc_auc_score(y2[test],[x[1] for x in svms_prob])\n",
    "    with open('../Data/models/150_{0}_single_svms_texture.csv'.format(str(i)),'w') as file:\n",
    "        file.write('true_label,predict_label'+'\\n')\n",
    "        for a,b in zip(y2[test],svms_prob):\n",
    "            file.write(str(a) + ','+str(b[1])+'\\n')\n",
    "    \n",
    "\n",
    "    cvacc_svms.append(svms_acc * 100)\n",
    "    cvauc_svms.append(svms_auc)\n",
    "    i+=1\n",
    "print(\"mean acc %.2f%% (+/- %.2f%%)\" % (np.mean(cvacc_svms), np.std(cvacc_svms)))\n",
    "print(\"mean auc %.2f%% (+/- %.2f%%)\" % (np.mean(cvauc_svms), np.std(cvauc_svms)))"
   ]
  },
  {
   "cell_type": "code",
   "execution_count": null,
   "id": "08417fcc",
   "metadata": {},
   "outputs": [],
   "source": [
    "cvacc_svms"
   ]
  },
  {
   "cell_type": "code",
   "execution_count": null,
   "id": "c2ee3ff5",
   "metadata": {},
   "outputs": [],
   "source": [
    "np.mean(cvacc_svms)"
   ]
  },
  {
   "cell_type": "code",
   "execution_count": null,
   "id": "3e681141",
   "metadata": {
    "scrolled": true
   },
   "outputs": [],
   "source": [
    "cvauc_svms"
   ]
  },
  {
   "cell_type": "code",
   "execution_count": null,
   "id": "1b8a559b",
   "metadata": {},
   "outputs": [],
   "source": [
    "np.mean(cvauc_svms)"
   ]
  },
  {
   "cell_type": "code",
   "execution_count": null,
   "id": "42cec3cb",
   "metadata": {},
   "outputs": [],
   "source": [
    "df1 = pd.read_csv('../Data/models/150_1_single_svms_texture.csv')\n",
    "\n",
    "calculate_metric(df1['true_label'],df1['predict_label'])"
   ]
  },
  {
   "cell_type": "code",
   "execution_count": null,
   "id": "820debc2",
   "metadata": {},
   "outputs": [],
   "source": [
    "df2 = pd.read_csv('../Data/models/150_2_single_svms_texture.csv')\n",
    "\n",
    "calculate_metric(df2['true_label'],df2['predict_label'])"
   ]
  },
  {
   "cell_type": "code",
   "execution_count": null,
   "id": "2369941c",
   "metadata": {},
   "outputs": [],
   "source": [
    "df3 = pd.read_csv('../Data/models/150_3_single_svms_texture.csv')\n",
    "\n",
    "calculate_metric(df3['true_label'],df3['predict_label'])"
   ]
  },
  {
   "cell_type": "code",
   "execution_count": null,
   "id": "bbf68de8",
   "metadata": {},
   "outputs": [],
   "source": [
    "df4 = pd.read_csv('../Data/models/150_4_single_svms_texture.csv')\n",
    "\n",
    "calculate_metric(df4['true_label'],df4['predict_label'])"
   ]
  },
  {
   "cell_type": "code",
   "execution_count": null,
   "id": "72a601e4",
   "metadata": {},
   "outputs": [],
   "source": [
    "df5 = pd.read_csv('../Data/models/150_5_single_svms_texture.csv')\n",
    "\n",
    "calculate_metric(df5['true_label'],df5['predict_label'])"
   ]
  },
  {
   "cell_type": "code",
   "execution_count": null,
   "id": "6ae1a05b",
   "metadata": {},
   "outputs": [],
   "source": [
    "seed = 101\n",
    "kfold = StratifiedKFold(n_splits=5, shuffle=True, random_state=seed)\n",
    "\n",
    "cvacc_svms = []\n",
    "cvauc_svms = []\n",
    "i = 1\n",
    "\n",
    "for train, test in kfold.split(x22,y2):\n",
    "    \n",
    "    \n",
    "    svm_model = SVC(probability=True).fit(x22[train], y2[train])\n",
    "    svms_acc = svm_model.score(x22[test], y2[test]) \n",
    "    svms_pred = svm_model.predict(x22[test])\n",
    "    svms_prob = svm_model.predict_proba(x22[test])\n",
    "    svms_auc = roc_auc_score(y2[test],[x[1] for x in svms_prob])\n",
    "    with open('../Data/models/150_{0}_single_svms_lbp.csv'.format(str(i)),'w') as file:\n",
    "        file.write('true_label,predict_label'+'\\n')\n",
    "        for a,b in zip(y2[test],svms_prob):\n",
    "            file.write(str(a) + ','+str(b[1])+'\\n')\n",
    "    \n",
    "\n",
    "    cvacc_svms.append(svms_acc * 100)\n",
    "    cvauc_svms.append(svms_auc)\n",
    "    i+=1\n",
    "print(\"mean acc %.2f%% (+/- %.2f%%)\" % (np.mean(cvacc_svms), np.std(cvacc_svms)))\n",
    "print(\"mean auc %.2f%% (+/- %.2f%%)\" % (np.mean(cvauc_svms), np.std(cvauc_svms)))"
   ]
  },
  {
   "cell_type": "code",
   "execution_count": null,
   "id": "2506c60c",
   "metadata": {},
   "outputs": [],
   "source": [
    "cvacc_svms"
   ]
  },
  {
   "cell_type": "code",
   "execution_count": null,
   "id": "efaa3be1",
   "metadata": {},
   "outputs": [],
   "source": [
    "np.mean(cvacc_svms)"
   ]
  },
  {
   "cell_type": "code",
   "execution_count": null,
   "id": "3ef5f1e2",
   "metadata": {},
   "outputs": [],
   "source": [
    "cvauc_svms"
   ]
  },
  {
   "cell_type": "code",
   "execution_count": null,
   "id": "540cebbd",
   "metadata": {},
   "outputs": [],
   "source": [
    "np.mean(cvauc_svms)"
   ]
  },
  {
   "cell_type": "code",
   "execution_count": null,
   "id": "e37ba60b",
   "metadata": {
    "scrolled": true
   },
   "outputs": [],
   "source": [
    "df1 = pd.read_csv('../Data/models/150_1_single_svms_lbp.csv')\n",
    "\n",
    "calculate_metric(df1['true_label'],df1['predict_label'])"
   ]
  },
  {
   "cell_type": "code",
   "execution_count": null,
   "id": "3deaf48f",
   "metadata": {
    "scrolled": true
   },
   "outputs": [],
   "source": [
    "df2 = pd.read_csv('../Data/models/150_2_single_svms_lbp.csv')\n",
    "\n",
    "calculate_metric(df2['true_label'],df2['predict_label'])"
   ]
  },
  {
   "cell_type": "code",
   "execution_count": null,
   "id": "8b57c103",
   "metadata": {
    "scrolled": true
   },
   "outputs": [],
   "source": [
    "df3 = pd.read_csv('../Data/models/150_3_single_svms_lbp.csv')\n",
    "\n",
    "calculate_metric(df3['true_label'],df3['predict_label'])"
   ]
  },
  {
   "cell_type": "code",
   "execution_count": null,
   "id": "9226caae",
   "metadata": {},
   "outputs": [],
   "source": [
    "df4 = pd.read_csv('../Data/models/150_4_single_svms_lbp.csv')\n",
    "\n",
    "calculate_metric(df4['true_label'],df4['predict_label'])"
   ]
  },
  {
   "cell_type": "code",
   "execution_count": null,
   "id": "770846bf",
   "metadata": {},
   "outputs": [],
   "source": [
    "df5 = pd.read_csv('../Data/models/150_5_single_svms_lbp.csv')\n",
    "\n",
    "calculate_metric(df5['true_label'],df5['predict_label'])"
   ]
  },
  {
   "cell_type": "code",
   "execution_count": null,
   "id": "4d6cc8d7",
   "metadata": {
    "scrolled": true
   },
   "outputs": [],
   "source": [
    "seed = 101\n",
    "kfold = StratifiedKFold(n_splits=5, shuffle=True, random_state=seed)\n",
    "\n",
    "cvacc_svms = []\n",
    "cvauc_svms = []\n",
    "i = 1\n",
    "\n",
    "for train, test in kfold.split(x32,y2):\n",
    "    \n",
    "    \n",
    "    svm_model = SVC(probability=True).fit(x32[train], y2[train])\n",
    "    svms_acc = svm_model.score(x32[test], y2[test]) \n",
    "    svms_pred = svm_model.predict(x32[test])\n",
    "    svms_prob = svm_model.predict_proba(x32[test])\n",
    "    svms_auc = roc_auc_score(y2[test],[x[1] for x in svms_prob])\n",
    "    with open('../Data/models/150_{0}_single_svms_hog.csv'.format(str(i)),'w') as file:\n",
    "        file.write('true_label,predict_label'+'\\n')\n",
    "        for a,b in zip(y2[test],svms_prob):\n",
    "            file.write(str(a) + ','+str(b[1])+'\\n')\n",
    "    \n",
    "\n",
    "    cvacc_svms.append(svms_acc * 100)\n",
    "    cvauc_svms.append(svms_auc)\n",
    "    i+=1\n",
    "print(\"mean acc %.2f%% (+/- %.2f%%)\" % (np.mean(cvacc_svms), np.std(cvacc_svms)))\n",
    "print(\"mean auc %.2f%% (+/- %.2f%%)\" % (np.mean(cvauc_svms), np.std(cvauc_svms)))"
   ]
  },
  {
   "cell_type": "code",
   "execution_count": null,
   "id": "1eada9a5",
   "metadata": {},
   "outputs": [],
   "source": [
    "cvacc_svms"
   ]
  },
  {
   "cell_type": "code",
   "execution_count": null,
   "id": "2ef8918c",
   "metadata": {},
   "outputs": [],
   "source": [
    "np.mean(cvacc_svms)"
   ]
  },
  {
   "cell_type": "code",
   "execution_count": null,
   "id": "0ed80d90",
   "metadata": {},
   "outputs": [],
   "source": [
    "cvauc_svms"
   ]
  },
  {
   "cell_type": "code",
   "execution_count": null,
   "id": "1f01e6ff",
   "metadata": {},
   "outputs": [],
   "source": [
    "np.mean(cvauc_svms)"
   ]
  },
  {
   "cell_type": "code",
   "execution_count": null,
   "id": "829ea62a",
   "metadata": {},
   "outputs": [],
   "source": [
    "df1 = pd.read_csv('../Data/models/150_1_single_svms_hog.csv')\n",
    "\n",
    "calculate_metric(df1['true_label'],df1['predict_label'])"
   ]
  },
  {
   "cell_type": "code",
   "execution_count": null,
   "id": "2c894d7b",
   "metadata": {},
   "outputs": [],
   "source": [
    "df2 = pd.read_csv('../Data/models/150_2_single_svms_hog.csv')\n",
    "\n",
    "calculate_metric(df2['true_label'],df2['predict_label'])"
   ]
  },
  {
   "cell_type": "code",
   "execution_count": null,
   "id": "0a8fe2ff",
   "metadata": {},
   "outputs": [],
   "source": [
    "df3 = pd.read_csv('../Data/models/150_3_single_svms_hog.csv')\n",
    "\n",
    "calculate_metric(df3['true_label'],df3['predict_label'])"
   ]
  },
  {
   "cell_type": "code",
   "execution_count": null,
   "id": "244e6000",
   "metadata": {},
   "outputs": [],
   "source": [
    "df4 = pd.read_csv('../Data/models/150_4_single_svms_hog.csv')\n",
    "\n",
    "calculate_metric(df4['true_label'],df4['predict_label'])"
   ]
  },
  {
   "cell_type": "code",
   "execution_count": null,
   "id": "49711876",
   "metadata": {
    "scrolled": true
   },
   "outputs": [],
   "source": [
    "df5 = pd.read_csv('../Data/models/150_5_single_svms_hog.csv')\n",
    "\n",
    "calculate_metric(df5['true_label'],df5['predict_label'])"
   ]
  },
  {
   "cell_type": "code",
   "execution_count": null,
   "id": "278ce07e",
   "metadata": {},
   "outputs": [],
   "source": []
  },
  {
   "cell_type": "markdown",
   "id": "9a185fd8",
   "metadata": {},
   "source": [
    "### LR"
   ]
  },
  {
   "cell_type": "code",
   "execution_count": null,
   "id": "a19f15e1",
   "metadata": {
    "scrolled": true
   },
   "outputs": [],
   "source": [
    "seed = 101\n",
    "kfold = StratifiedKFold(n_splits=5, shuffle=True, random_state=seed)\n",
    "\n",
    "cvacc_logistic = []\n",
    "cvauc_logistic = []\n",
    "i = 1\n",
    "\n",
    "for train, test in kfold.split(x12,y2):\n",
    "    \n",
    "    \n",
    "    lr_model = LogisticRegression().fit(x12[train], y2[train])\n",
    "    logistic_acc = lr_model.score(x12[test], y2[test]) \n",
    "    logistic_pred = lr_model.predict(x12[test])\n",
    "    logistic_prob = lr_model.predict_proba(x12[test])\n",
    "    logistic_auc = roc_auc_score(y2[test],[x[1] for x in logistic_prob])\n",
    "    with open('../Data/models/150_{0}_single_logistic_texture.csv'.format(str(i)),'w') as file:\n",
    "        file.write('true_label,predict_label'+'\\n')\n",
    "        for a,b in zip(y2[test],logistic_prob):\n",
    "            file.write(str(a) + ','+str(b[1])+'\\n')\n",
    "    \n",
    "\n",
    "    cvacc_logistic.append(logistic_acc * 100)\n",
    "    cvauc_logistic.append(logistic_auc)\n",
    "    i+=1\n",
    "print(\"mean acc %.2f%% (+/- %.2f%%)\" % (np.mean(cvacc_logistic), np.std(cvacc_logistic)))\n",
    "print(\"mean auc %.2f%% (+/- %.2f%%)\" % (np.mean(cvauc_logistic), np.std(cvauc_logistic)))"
   ]
  },
  {
   "cell_type": "code",
   "execution_count": null,
   "id": "ee6c2d3b",
   "metadata": {},
   "outputs": [],
   "source": [
    "cvacc_logistic"
   ]
  },
  {
   "cell_type": "code",
   "execution_count": null,
   "id": "5be2f06c",
   "metadata": {},
   "outputs": [],
   "source": [
    "np.mean(cvacc_logistic)"
   ]
  },
  {
   "cell_type": "code",
   "execution_count": null,
   "id": "bd954f67",
   "metadata": {
    "scrolled": true
   },
   "outputs": [],
   "source": [
    "cvauc_logistic"
   ]
  },
  {
   "cell_type": "code",
   "execution_count": null,
   "id": "ca51f130",
   "metadata": {},
   "outputs": [],
   "source": [
    "np.mean(cvauc_logistic)"
   ]
  },
  {
   "cell_type": "code",
   "execution_count": null,
   "id": "fd9b0745",
   "metadata": {},
   "outputs": [],
   "source": []
  },
  {
   "cell_type": "code",
   "execution_count": null,
   "id": "a42ec7b5",
   "metadata": {},
   "outputs": [],
   "source": [
    "df1 = pd.read_csv('../Data/models/150_1_single_logistic_texture.csv')\n",
    "\n",
    "calculate_metric(df1['true_label'],df1['predict_label'])"
   ]
  },
  {
   "cell_type": "code",
   "execution_count": null,
   "id": "4d33c4fb",
   "metadata": {},
   "outputs": [],
   "source": [
    "df2 = pd.read_csv('../Data/models/150_2_single_logistic_texture.csv')\n",
    "\n",
    "calculate_metric(df2['true_label'],df2['predict_label'])"
   ]
  },
  {
   "cell_type": "code",
   "execution_count": null,
   "id": "44d381b0",
   "metadata": {},
   "outputs": [],
   "source": [
    "df3 = pd.read_csv('../Data/models/150_3_single_logistic_texture.csv')\n",
    "\n",
    "calculate_metric(df3['true_label'],df3['predict_label'])"
   ]
  },
  {
   "cell_type": "code",
   "execution_count": null,
   "id": "be123832",
   "metadata": {},
   "outputs": [],
   "source": [
    "df4 = pd.read_csv('../Data/models/150_4_single_logistic_texture.csv')\n",
    "\n",
    "calculate_metric(df4['true_label'],df4['predict_label'])"
   ]
  },
  {
   "cell_type": "code",
   "execution_count": null,
   "id": "1d3d316a",
   "metadata": {},
   "outputs": [],
   "source": [
    "df5 = pd.read_csv('../Data/models/150_5_single_logistic_texture.csv')\n",
    "\n",
    "calculate_metric(df5['true_label'],df5['predict_label'])"
   ]
  },
  {
   "cell_type": "code",
   "execution_count": null,
   "id": "e09bab37",
   "metadata": {},
   "outputs": [],
   "source": [
    "seed = 101\n",
    "kfold = StratifiedKFold(n_splits=5, shuffle=True, random_state=seed)\n",
    "\n",
    "cvacc_logistic = []\n",
    "cvauc_logistic = []\n",
    "i = 1\n",
    "\n",
    "for train, test in kfold.split(x22,y2):\n",
    "    \n",
    "    \n",
    "    lr_model = LogisticRegression().fit(x22[train], y2[train])\n",
    "    logistic_acc = lr_model.score(x22[test], y2[test]) \n",
    "    logistic_pred = lr_model.predict(x22[test])\n",
    "    logistic_prob = lr_model.predict_proba(x22[test])\n",
    "    logistic_auc = roc_auc_score(y2[test],[x[1] for x in logistic_prob])\n",
    "    with open('../Data/models/150_{0}_single_logistic_lbp.csv'.format(str(i)),'w') as file:\n",
    "        file.write('true_label,predict_label'+'\\n')\n",
    "        for a,b in zip(y2[test],logistic_prob):\n",
    "            file.write(str(a) + ','+str(b[1])+'\\n')\n",
    "    \n",
    "\n",
    "    cvacc_logistic.append(logistic_acc * 100)\n",
    "    cvauc_logistic.append(logistic_auc)\n",
    "    i+=1\n",
    "print(\"mean acc %.2f%% (+/- %.2f%%)\" % (np.mean(cvacc_logistic), np.std(cvacc_logistic)))\n",
    "print(\"mean auc %.2f%% (+/- %.2f%%)\" % (np.mean(cvauc_logistic), np.std(cvauc_logistic)))"
   ]
  },
  {
   "cell_type": "code",
   "execution_count": null,
   "id": "e5106d6b",
   "metadata": {},
   "outputs": [],
   "source": [
    "cvacc_logistic"
   ]
  },
  {
   "cell_type": "code",
   "execution_count": null,
   "id": "fb9ae9ec",
   "metadata": {},
   "outputs": [],
   "source": [
    "np.mean(cvacc_logistic)"
   ]
  },
  {
   "cell_type": "code",
   "execution_count": null,
   "id": "e4940b36",
   "metadata": {},
   "outputs": [],
   "source": [
    "cvauc_logistic"
   ]
  },
  {
   "cell_type": "code",
   "execution_count": null,
   "id": "77911d5b",
   "metadata": {},
   "outputs": [],
   "source": [
    "np.mean(cvauc_logistic)"
   ]
  },
  {
   "cell_type": "code",
   "execution_count": null,
   "id": "f23a1faa",
   "metadata": {},
   "outputs": [],
   "source": [
    "df1 = pd.read_csv('../Data/models/150_1_single_logistic_lbp.csv')\n",
    "\n",
    "calculate_metric(df1['true_label'],df1['predict_label'])"
   ]
  },
  {
   "cell_type": "code",
   "execution_count": null,
   "id": "33ce134d",
   "metadata": {},
   "outputs": [],
   "source": [
    "df2 = pd.read_csv('../Data/models/150_2_single_logistic_lbp.csv')\n",
    "\n",
    "calculate_metric(df2['true_label'],df2['predict_label'])"
   ]
  },
  {
   "cell_type": "code",
   "execution_count": null,
   "id": "2eb1a1e6",
   "metadata": {
    "scrolled": true
   },
   "outputs": [],
   "source": [
    "df3 = pd.read_csv('../Data/models/150_3_single_logistic_lbp.csv')\n",
    "\n",
    "calculate_metric(df3['true_label'],df3['predict_label'])"
   ]
  },
  {
   "cell_type": "code",
   "execution_count": null,
   "id": "edf2e278",
   "metadata": {},
   "outputs": [],
   "source": [
    "df4 = pd.read_csv('../Data/models/150_4_single_logistic_lbp.csv')\n",
    "\n",
    "calculate_metric(df4['true_label'],df4['predict_label'])"
   ]
  },
  {
   "cell_type": "code",
   "execution_count": null,
   "id": "2bddaa06",
   "metadata": {},
   "outputs": [],
   "source": [
    "df5 = pd.read_csv('../Data/models/150_5_single_logistic_lbp.csv')\n",
    "\n",
    "calculate_metric(df5['true_label'],df5['predict_label'])"
   ]
  },
  {
   "cell_type": "code",
   "execution_count": null,
   "id": "2819586b",
   "metadata": {},
   "outputs": [],
   "source": [
    "seed = 101\n",
    "kfold = StratifiedKFold(n_splits=5, shuffle=True, random_state=seed)\n",
    "\n",
    "cvacc_logistic = []\n",
    "cvauc_logistic = []\n",
    "i = 1\n",
    "\n",
    "for train, test in kfold.split(x32,y2):\n",
    "    \n",
    "    \n",
    "    lr_model = LogisticRegression().fit(x32[train], y2[train])\n",
    "    logistic_acc = lr_model.score(x32[test], y2[test]) \n",
    "    logistic_pred = lr_model.predict(x32[test])\n",
    "    logistic_prob = lr_model.predict_proba(x32[test])\n",
    "    logistic_auc = roc_auc_score(y2[test],[x[1] for x in logistic_prob])\n",
    "    with open('../Data/models/150_{0}_single_logistic_hog.csv'.format(str(i)),'w') as file:\n",
    "        file.write('true_label,predict_label'+'\\n')\n",
    "        for a,b in zip(y2[test],logistic_prob):\n",
    "            file.write(str(a) + ','+str(b[1])+'\\n')\n",
    "    \n",
    "\n",
    "    cvacc_logistic.append(logistic_acc * 100)\n",
    "    cvauc_logistic.append(logistic_auc)\n",
    "    i+=1\n",
    "print(\"mean acc %.2f%% (+/- %.2f%%)\" % (np.mean(cvacc_logistic), np.std(cvacc_logistic)))\n",
    "print(\"mean auc %.2f%% (+/- %.2f%%)\" % (np.mean(cvauc_logistic), np.std(cvauc_logistic)))"
   ]
  },
  {
   "cell_type": "code",
   "execution_count": null,
   "id": "5810d941",
   "metadata": {},
   "outputs": [],
   "source": [
    "cvacc_logistic"
   ]
  },
  {
   "cell_type": "code",
   "execution_count": null,
   "id": "b864394a",
   "metadata": {},
   "outputs": [],
   "source": [
    "np.mean(cvacc_logistic)"
   ]
  },
  {
   "cell_type": "code",
   "execution_count": null,
   "id": "3984cfbd",
   "metadata": {},
   "outputs": [],
   "source": [
    "cvauc_logistic"
   ]
  },
  {
   "cell_type": "code",
   "execution_count": null,
   "id": "0a550f0a",
   "metadata": {},
   "outputs": [],
   "source": [
    "np.mean(cvauc_logistic)"
   ]
  },
  {
   "cell_type": "code",
   "execution_count": null,
   "id": "4a91b4ae",
   "metadata": {},
   "outputs": [],
   "source": [
    "df1 = pd.read_csv('../Data/models/150_1_single_logistic_hog.csv')\n",
    "\n",
    "calculate_metric(df1['true_label'],df1['predict_label'])"
   ]
  },
  {
   "cell_type": "code",
   "execution_count": null,
   "id": "d469cee6",
   "metadata": {},
   "outputs": [],
   "source": [
    "df2 = pd.read_csv('../Data/models/150_2_single_logistic_hog.csv')\n",
    "\n",
    "calculate_metric(df2['true_label'],df2['predict_label'])"
   ]
  },
  {
   "cell_type": "code",
   "execution_count": null,
   "id": "3afecf75",
   "metadata": {},
   "outputs": [],
   "source": [
    "df3 = pd.read_csv('../Data/models/150_3_single_logistic_hog.csv')\n",
    "\n",
    "calculate_metric(df3['true_label'],df3['predict_label'])"
   ]
  },
  {
   "cell_type": "code",
   "execution_count": null,
   "id": "60e90b00",
   "metadata": {},
   "outputs": [],
   "source": [
    "df4 = pd.read_csv('../Data/models/150_4_single_logistic_hog.csv')\n",
    "\n",
    "calculate_metric(df4['true_label'],df4['predict_label'])"
   ]
  },
  {
   "cell_type": "code",
   "execution_count": null,
   "id": "0d6bf341",
   "metadata": {},
   "outputs": [],
   "source": [
    "df5 = pd.read_csv('../Data/models/150_5_single_logistic_hog.csv')\n",
    "\n",
    "calculate_metric(df5['true_label'],df5['predict_label'])"
   ]
  },
  {
   "cell_type": "code",
   "execution_count": null,
   "id": "6751133c",
   "metadata": {},
   "outputs": [],
   "source": []
  }
 ],
 "metadata": {
  "kernelspec": {
   "display_name": "Python 3 (ipykernel)",
   "language": "python",
   "name": "python3"
  },
  "language_info": {
   "codemirror_mode": {
    "name": "ipython",
    "version": 3
   },
   "file_extension": ".py",
   "mimetype": "text/x-python",
   "name": "python",
   "nbconvert_exporter": "python",
   "pygments_lexer": "ipython3",
   "version": "3.8.5"
  }
 },
 "nbformat": 4,
 "nbformat_minor": 5
}
