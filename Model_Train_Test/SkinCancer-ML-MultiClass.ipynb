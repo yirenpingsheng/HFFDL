{
 "cells": [
  {
   "cell_type": "code",
   "execution_count": null,
   "id": "25816172",
   "metadata": {},
   "outputs": [],
   "source": [
    "import pandas as pd\n",
    "import sklearn\n",
    "from sklearn.model_selection import train_test_split\n",
    "from sklearn.preprocessing import StandardScaler\n",
    "from sklearn.datasets import make_moons, make_circles, make_classification\n",
    "from sklearn.neural_network import MLPClassifier\n",
    "from sklearn.svm import SVC\n",
    "from sklearn.gaussian_process.kernels import RBF\n",
    "from sklearn.model_selection import StratifiedKFold\n",
    "from sklearn.metrics import roc_auc_score,f1_score,accuracy_score"
   ]
  },
  {
   "cell_type": "code",
   "execution_count": null,
   "id": "6fa3acc8",
   "metadata": {
    "scrolled": true
   },
   "outputs": [],
   "source": [
    "from tensorflow.keras.callbacks import ReduceLROnPlateau,EarlyStopping"
   ]
  },
  {
   "cell_type": "code",
   "execution_count": null,
   "id": "de4acd5b",
   "metadata": {},
   "outputs": [],
   "source": [
    "import numpy as np\n",
    "x1 = np.load('/path/Data/Skin_Cancer/X_Skin_Multi_150_texture.npy')\n",
    "x2 = np.load('/path/Data/Skin_Cancer/X_Skin_Multi_150_lbp.npy')\n",
    "x2 = np.asarray([x.reshape(150*150) for x in x2])\n"
   ]
  },
  {
   "cell_type": "code",
   "execution_count": null,
   "id": "58c100f1",
   "metadata": {},
   "outputs": [],
   "source": [
    "x3 = np.load('/path/Data/Skin_Cancer/X_Skin_Multi_150_hog.npy')\n",
    "y = np.load('/path/Data/Skin_Cancer/Y_Skin_ISIC_Multi_150.npy')"
   ]
  },
  {
   "cell_type": "code",
   "execution_count": null,
   "id": "31743e7b",
   "metadata": {},
   "outputs": [],
   "source": [
    "from random import sample\n",
    "index = [i for i in range(x1.shape[0])]\n",
    "np.random.shuffle(index) \n",
    "\n",
    "\n",
    "x12 = x1[index]\n",
    "x22 = x2[index]\n",
    "x32 = x3[index]\n",
    "y2 = y[index]"
   ]
  },
  {
   "cell_type": "code",
   "execution_count": null,
   "id": "31f0c76d",
   "metadata": {},
   "outputs": [],
   "source": [
    "from sklearn.preprocessing import LabelEncoder,LabelBinarizer\n",
    "label_encode = LabelEncoder()\n",
    "y3 = label_encode.fit_transform(y2)"
   ]
  },
  {
   "cell_type": "markdown",
   "id": "1d676bfe",
   "metadata": {},
   "source": [
    "### MLP"
   ]
  },
  {
   "cell_type": "code",
   "execution_count": null,
   "id": "b3b6ba15",
   "metadata": {},
   "outputs": [],
   "source": [
    "seed = 101\n",
    "kfold = StratifiedKFold(n_splits=5, shuffle=True, random_state=seed)\n",
    "\n",
    "cvacc_mlp = []\n",
    "cvauc_mlp = []\n",
    "cvf1_mlp = []\n",
    "i = 1\n",
    "\n",
    "\n",
    "for train, test in kfold.split(x12,y3):\n",
    "    \n",
    "    \n",
    "    mlp = MLPClassifier(hidden_layer_sizes=(32,32),alpha=1, max_iter=1000).fit(x12[train], y3[train])\n",
    "    mlp_pred = mlp.predict(x12[test])\n",
    "    mlp_prob = mlp.predict_proba(x12[test])\n",
    "    mlp_acc = accuracy_score(y3[test],mlp_pred)\n",
    "    mlp_f1 = f1_score(y3[test],mlp_pred,average='macro')\n",
    "    mlp_auc = roc_auc_score(y3[test],mlp_prob,multi_class='ovo')\n",
    "    \n",
    "\n",
    "\n",
    "    cvacc_mlp.append(mlp_acc)\n",
    "    cvauc_mlp.append(mlp_auc)\n",
    "    cvf1_mlp.append(mlp_f1)\n",
    "    i+=1\n",
    "print(\"mean acc %.2f%% (+/- %.2f%%)\" % (np.mean(cvacc_mlp), np.std(cvacc_mlp)))\n",
    "print(\"mean auc %.2f%% (+/- %.2f%%)\" % (np.mean(cvauc_mlp), np.std(cvauc_mlp)))\n",
    "print(\"mean f1 %.2f%% (+/- %.2f%%)\" % (np.mean(cvf1_mlp), np.std(cvf1_mlp)))"
   ]
  },
  {
   "cell_type": "code",
   "execution_count": null,
   "id": "d2df3559",
   "metadata": {
    "scrolled": true
   },
   "outputs": [],
   "source": [
    "cvacc_mlp"
   ]
  },
  {
   "cell_type": "code",
   "execution_count": null,
   "id": "4c5dd0a0",
   "metadata": {},
   "outputs": [],
   "source": [
    "np.mean(cvacc_mlp)"
   ]
  },
  {
   "cell_type": "code",
   "execution_count": null,
   "id": "585c331f",
   "metadata": {},
   "outputs": [],
   "source": [
    "cvauc_mlp"
   ]
  },
  {
   "cell_type": "code",
   "execution_count": null,
   "id": "e4ae208a",
   "metadata": {},
   "outputs": [],
   "source": [
    "np.mean(cvauc_mlp)"
   ]
  },
  {
   "cell_type": "code",
   "execution_count": null,
   "id": "10e356ff",
   "metadata": {},
   "outputs": [],
   "source": [
    "cvf1_mlp"
   ]
  },
  {
   "cell_type": "code",
   "execution_count": null,
   "id": "1a9c4d25",
   "metadata": {},
   "outputs": [],
   "source": [
    "np.mean(cvf1_mlp)"
   ]
  },
  {
   "cell_type": "code",
   "execution_count": null,
   "id": "cd5ed6a9",
   "metadata": {},
   "outputs": [],
   "source": [
    "seed = 101\n",
    "kfold = StratifiedKFold(n_splits=5, shuffle=True, random_state=seed)\n",
    "\n",
    "cvacc_mlp = []\n",
    "cvauc_mlp = []\n",
    "cvf1_mlp = []\n",
    "i = 1\n",
    "\n",
    "\n",
    "for train, test in kfold.split(x22,y3):\n",
    "    \n",
    "    \n",
    "    mlp = MLPClassifier(hidden_layer_sizes=(32,32),alpha=1, max_iter=1000).fit(x22[train], y3[train])\n",
    "\n",
    "    mlp_pred = mlp.predict(x22[test])\n",
    "    mlp_prob = mlp.predict_proba(x22[test])\n",
    "    mlp_acc = accuracy_score(y3[test],mlp_pred)\n",
    "    mlp_f1 = f1_score(y3[test],mlp_pred,average='macro')\n",
    "    mlp_auc = roc_auc_score(y3[test],mlp_prob,multi_class='ovo')\n",
    "    \n",
    "\n",
    "\n",
    "    cvacc_mlp.append(mlp_acc)\n",
    "    cvauc_mlp.append(mlp_auc)\n",
    "    cvf1_mlp.append(mlp_f1)\n",
    "    i+=1\n",
    "print(\"mean acc %.2f%% (+/- %.2f%%)\" % (np.mean(cvacc_mlp), np.std(cvacc_mlp)))\n",
    "print(\"mean auc %.2f%% (+/- %.2f%%)\" % (np.mean(cvauc_mlp), np.std(cvauc_mlp)))\n",
    "print(\"mean f1 %.2f%% (+/- %.2f%%)\" % (np.mean(cvf1_mlp), np.std(cvf1_mlp)))"
   ]
  },
  {
   "cell_type": "code",
   "execution_count": null,
   "id": "382eb0dd",
   "metadata": {},
   "outputs": [],
   "source": [
    "cvacc_mlp"
   ]
  },
  {
   "cell_type": "code",
   "execution_count": null,
   "id": "20bcba2d",
   "metadata": {},
   "outputs": [],
   "source": [
    "np.mean(cvacc_mlp)"
   ]
  },
  {
   "cell_type": "code",
   "execution_count": null,
   "id": "1955ba99",
   "metadata": {},
   "outputs": [],
   "source": [
    "cvauc_mlp"
   ]
  },
  {
   "cell_type": "code",
   "execution_count": null,
   "id": "6832b2a9",
   "metadata": {},
   "outputs": [],
   "source": [
    "np.mean(cvauc_mlp)"
   ]
  },
  {
   "cell_type": "code",
   "execution_count": null,
   "id": "6929d2f6",
   "metadata": {},
   "outputs": [],
   "source": [
    "cvf1_mlp"
   ]
  },
  {
   "cell_type": "code",
   "execution_count": null,
   "id": "b0899f41",
   "metadata": {},
   "outputs": [],
   "source": [
    "np.mean(cvf1_mlp)"
   ]
  },
  {
   "cell_type": "code",
   "execution_count": null,
   "id": "79e4091a",
   "metadata": {},
   "outputs": [],
   "source": [
    "seed = 101\n",
    "kfold = StratifiedKFold(n_splits=5, shuffle=True, random_state=seed)\n",
    "\n",
    "cvacc_mlp = []\n",
    "cvauc_mlp = []\n",
    "cvf1_mlp = []\n",
    "i = 1\n",
    "\n",
    "\n",
    "for train, test in kfold.split(x32,y3):\n",
    "    \n",
    "    \n",
    "    mlp = MLPClassifier(hidden_layer_sizes=(32,32),alpha=1, max_iter=1000).fit(x32[train], y3[train])\n",
    "\n",
    "    mlp_pred = mlp.predict(x32[test])\n",
    "    mlp_prob = mlp.predict_proba(x32[test])\n",
    "    mlp_acc = accuracy_score(y3[test],mlp_pred)\n",
    "    mlp_f1 = f1_score(y3[test],mlp_pred,average='macro')\n",
    "    mlp_auc = roc_auc_score(y3[test],mlp_prob,multi_class='ovo')\n",
    "    \n",
    "\n",
    "\n",
    "    cvacc_mlp.append(mlp_acc)\n",
    "    cvauc_mlp.append(mlp_auc)\n",
    "    cvf1_mlp.append(mlp_f1)\n",
    "    i+=1\n",
    "print(\"mean acc %.2f%% (+/- %.2f%%)\" % (np.mean(cvacc_mlp), np.std(cvacc_mlp)))\n",
    "print(\"mean auc %.2f%% (+/- %.2f%%)\" % (np.mean(cvauc_mlp), np.std(cvauc_mlp)))\n",
    "print(\"mean f1 %.2f%% (+/- %.2f%%)\" % (np.mean(cvf1_mlp), np.std(cvf1_mlp)))"
   ]
  },
  {
   "cell_type": "code",
   "execution_count": null,
   "id": "872e7da3",
   "metadata": {},
   "outputs": [],
   "source": [
    "cvacc_mlp"
   ]
  },
  {
   "cell_type": "code",
   "execution_count": null,
   "id": "aced90a1",
   "metadata": {
    "scrolled": true
   },
   "outputs": [],
   "source": [
    "np.mean(cvacc_mlp)"
   ]
  },
  {
   "cell_type": "code",
   "execution_count": null,
   "id": "da6a1e41",
   "metadata": {
    "scrolled": true
   },
   "outputs": [],
   "source": [
    "cvauc_mlp"
   ]
  },
  {
   "cell_type": "code",
   "execution_count": null,
   "id": "fdd64bb3",
   "metadata": {},
   "outputs": [],
   "source": [
    "np.mean(cvauc_mlp)"
   ]
  },
  {
   "cell_type": "code",
   "execution_count": null,
   "id": "e085a5d3",
   "metadata": {},
   "outputs": [],
   "source": [
    "cvf1_mlp"
   ]
  },
  {
   "cell_type": "code",
   "execution_count": null,
   "id": "7bb72a77",
   "metadata": {},
   "outputs": [],
   "source": [
    "np.mean(cvf1_mlp)"
   ]
  },
  {
   "cell_type": "markdown",
   "id": "a3b1696d",
   "metadata": {},
   "source": [
    "### SVM"
   ]
  },
  {
   "cell_type": "code",
   "execution_count": null,
   "id": "c18e36eb",
   "metadata": {},
   "outputs": [],
   "source": [
    "from sklearn.svm import SVC\n",
    "from sklearn.linear_model import LogisticRegression"
   ]
  },
  {
   "cell_type": "code",
   "execution_count": null,
   "id": "f349a592",
   "metadata": {
    "scrolled": true
   },
   "outputs": [],
   "source": [
    "seed = 101\n",
    "kfold = StratifiedKFold(n_splits=5, shuffle=True, random_state=seed)\n",
    "\n",
    "cvacc_svms = []\n",
    "cvauc_svms = []\n",
    "cvf1_svms = []\n",
    "i = 1\n",
    "\n",
    "\n",
    "for train, test in kfold.split(x12,y3):\n",
    "    \n",
    "    \n",
    "    svm_model = SVC(probability=True).fit(x12[train], y3[train])\n",
    "    svms_pred =  svm_model.predict(x12[test])\n",
    "    svms_prob =  svm_model.predict_proba(x12[test])\n",
    "    svms_acc = accuracy_score(y3[test],svms_pred)\n",
    "    svms_f1 = f1_score(y3[test],svms_pred,average='macro')\n",
    "    svms_auc = roc_auc_score(y3[test],svms_prob,multi_class='ovo')\n",
    "    \n",
    "\n",
    "\n",
    "    cvacc_svms.append(svms_acc)\n",
    "    cvauc_svms.append(svms_auc)\n",
    "    cvf1_svms.append(svms_f1)\n",
    "    i+=1\n",
    "print(\"mean acc %.2f%% (+/- %.2f%%)\" % (np.mean(cvacc_svms), np.std(cvacc_svms)))\n",
    "print(\"mean auc %.2f%% (+/- %.2f%%)\" % (np.mean(cvauc_svms), np.std(cvauc_svms)))\n",
    "print(\"mean f1 %.2f%% (+/- %.2f%%)\" % (np.mean(cvf1_svms), np.std(cvf1_svms)))"
   ]
  },
  {
   "cell_type": "code",
   "execution_count": null,
   "id": "08417fcc",
   "metadata": {},
   "outputs": [],
   "source": [
    "cvacc_svms"
   ]
  },
  {
   "cell_type": "code",
   "execution_count": null,
   "id": "c2ee3ff5",
   "metadata": {},
   "outputs": [],
   "source": [
    "np.mean(cvacc_svms)"
   ]
  },
  {
   "cell_type": "code",
   "execution_count": null,
   "id": "3e681141",
   "metadata": {
    "scrolled": true
   },
   "outputs": [],
   "source": [
    "cvauc_svms"
   ]
  },
  {
   "cell_type": "code",
   "execution_count": null,
   "id": "1b8a559b",
   "metadata": {},
   "outputs": [],
   "source": [
    "np.mean(cvauc_svms)"
   ]
  },
  {
   "cell_type": "code",
   "execution_count": null,
   "id": "796dd5e5",
   "metadata": {},
   "outputs": [],
   "source": [
    "cvf1_svms"
   ]
  },
  {
   "cell_type": "code",
   "execution_count": null,
   "id": "225bd768",
   "metadata": {},
   "outputs": [],
   "source": [
    "np.mean(cvf1_svms)"
   ]
  },
  {
   "cell_type": "code",
   "execution_count": null,
   "id": "6ae1a05b",
   "metadata": {},
   "outputs": [],
   "source": [
    "seed = 101\n",
    "kfold = StratifiedKFold(n_splits=5, shuffle=True, random_state=seed)\n",
    "\n",
    "cvacc_svms = []\n",
    "cvauc_svms = []\n",
    "cvf1_svms = []\n",
    "i = 1\n",
    "\n",
    "\n",
    "for train, test in kfold.split(x22,y3):\n",
    "    \n",
    "    \n",
    "    svm_model = SVC(probability=True).fit(x22[train], y3[train])\n",
    "    svms_pred =  svm_model.predict(x22[test])\n",
    "    svms_prob =  svm_model.predict_proba(x22[test])\n",
    "    svms_acc = accuracy_score(y3[test],svms_pred)\n",
    "    svms_f1 = f1_score(y3[test],svms_pred,average='macro')\n",
    "    svms_auc = roc_auc_score(y3[test],svms_prob,multi_class='ovo')\n",
    "    \n",
    "\n",
    "\n",
    "    cvacc_svms.append(svms_acc)\n",
    "    cvauc_svms.append(svms_auc)\n",
    "    cvf1_svms.append(svms_f1)\n",
    "    i+=1\n",
    "print(\"mean acc %.2f%% (+/- %.2f%%)\" % (np.mean(cvacc_svms), np.std(cvacc_svms)))\n",
    "print(\"mean auc %.2f%% (+/- %.2f%%)\" % (np.mean(cvauc_svms), np.std(cvauc_svms)))\n",
    "print(\"mean f1 %.2f%% (+/- %.2f%%)\" % (np.mean(cvf1_svms), np.std(cvf1_svms)))"
   ]
  },
  {
   "cell_type": "code",
   "execution_count": null,
   "id": "2506c60c",
   "metadata": {},
   "outputs": [],
   "source": [
    "cvacc_svms"
   ]
  },
  {
   "cell_type": "code",
   "execution_count": null,
   "id": "efaa3be1",
   "metadata": {},
   "outputs": [],
   "source": [
    "np.mean(cvacc_svms)"
   ]
  },
  {
   "cell_type": "code",
   "execution_count": null,
   "id": "3ef5f1e2",
   "metadata": {},
   "outputs": [],
   "source": [
    "cvauc_svms"
   ]
  },
  {
   "cell_type": "code",
   "execution_count": null,
   "id": "540cebbd",
   "metadata": {},
   "outputs": [],
   "source": [
    "np.mean(cvauc_svms)"
   ]
  },
  {
   "cell_type": "code",
   "execution_count": null,
   "id": "deb7fccd",
   "metadata": {},
   "outputs": [],
   "source": [
    "cvf1_svms"
   ]
  },
  {
   "cell_type": "code",
   "execution_count": null,
   "id": "3381e276",
   "metadata": {},
   "outputs": [],
   "source": [
    "np.mean(cvf1_svms)"
   ]
  },
  {
   "cell_type": "code",
   "execution_count": null,
   "id": "4d6cc8d7",
   "metadata": {
    "scrolled": true
   },
   "outputs": [],
   "source": [
    "seed = 101\n",
    "kfold = StratifiedKFold(n_splits=5, shuffle=True, random_state=seed)\n",
    "\n",
    "cvacc_svms = []\n",
    "cvauc_svms = []\n",
    "cvf1_svms = []\n",
    "i = 1\n",
    "\n",
    "\n",
    "for train, test in kfold.split(x32,y3):\n",
    "    \n",
    "    \n",
    "    svm_model = SVC(probability=True).fit(x32[train], y3[train])\n",
    "    svms_pred =  svm_model.predict(x32[test])\n",
    "    svms_prob =  svm_model.predict_proba(x32[test])\n",
    "    svms_acc = accuracy_score(y3[test],svms_pred)\n",
    "    svms_f1 = f1_score(y3[test],svms_pred,average='macro')\n",
    "    svms_auc = roc_auc_score(y3[test],svms_prob,multi_class='ovo')\n",
    "    \n",
    "\n",
    "\n",
    "    cvacc_svms.append(svms_acc)\n",
    "    cvauc_svms.append(svms_auc)\n",
    "    cvf1_svms.append(svms_f1)\n",
    "    i+=1\n",
    "print(\"mean acc %.2f%% (+/- %.2f%%)\" % (np.mean(cvacc_svms), np.std(cvacc_svms)))\n",
    "print(\"mean auc %.2f%% (+/- %.2f%%)\" % (np.mean(cvauc_svms), np.std(cvauc_svms)))\n",
    "print(\"mean f1 %.2f%% (+/- %.2f%%)\" % (np.mean(cvf1_svms), np.std(cvf1_svms)))"
   ]
  },
  {
   "cell_type": "code",
   "execution_count": null,
   "id": "1eada9a5",
   "metadata": {},
   "outputs": [],
   "source": [
    "cvacc_svms"
   ]
  },
  {
   "cell_type": "code",
   "execution_count": null,
   "id": "2ef8918c",
   "metadata": {},
   "outputs": [],
   "source": [
    "np.mean(cvacc_svms)"
   ]
  },
  {
   "cell_type": "code",
   "execution_count": null,
   "id": "0ed80d90",
   "metadata": {},
   "outputs": [],
   "source": [
    "cvauc_svms"
   ]
  },
  {
   "cell_type": "code",
   "execution_count": null,
   "id": "1f01e6ff",
   "metadata": {},
   "outputs": [],
   "source": [
    "np.mean(cvauc_svms)"
   ]
  },
  {
   "cell_type": "code",
   "execution_count": null,
   "id": "78195385",
   "metadata": {},
   "outputs": [],
   "source": [
    "cvf1_svms"
   ]
  },
  {
   "cell_type": "code",
   "execution_count": null,
   "id": "dff15908",
   "metadata": {},
   "outputs": [],
   "source": [
    "np.mean(cvf1_svms)"
   ]
  },
  {
   "cell_type": "markdown",
   "id": "9a185fd8",
   "metadata": {},
   "source": [
    "### LR"
   ]
  },
  {
   "cell_type": "code",
   "execution_count": null,
   "id": "a19f15e1",
   "metadata": {
    "scrolled": true
   },
   "outputs": [],
   "source": [
    "seed = 101\n",
    "kfold = StratifiedKFold(n_splits=5, shuffle=True, random_state=seed)\n",
    "\n",
    "cvacc_logistic = []\n",
    "cvauc_logistic = []\n",
    "cvf1_logistic = []\n",
    "i = 1\n",
    "\n",
    "\n",
    "for train, test in kfold.split(x12,y3):\n",
    "    \n",
    "    \n",
    "    lr_model = LogisticRegression().fit(x12[train], y3[train])\n",
    "    logistic_pred = lr_model.predict(x12[test])\n",
    "    logistic_prob = lr_model.predict_proba(x12[test])\n",
    "    logistic_acc = accuracy_score(y3[test],logistic_pred)\n",
    "    logistic_f1 = f1_score(y3[test],logistic_pred,average='macro')\n",
    "    logistic_auc = roc_auc_score(y3[test],logistic_prob,multi_class='ovo')\n",
    "    \n",
    "\n",
    "\n",
    "    cvacc_logistic.append(logistic_acc)\n",
    "    cvauc_logistic.append(logistic_auc)\n",
    "    cvf1_logistic.append(logistic_f1)\n",
    "    i+=1\n",
    "print(\"mean acc %.2f%% (+/- %.2f%%)\" % (np.mean(cvacc_logistic), np.std(cvacc_logistic)))\n",
    "print(\"mean auc %.2f%% (+/- %.2f%%)\" % (np.mean(cvauc_logistic), np.std(cvauc_logistic)))\n",
    "print(\"mean f1 %.2f%% (+/- %.2f%%)\" % (np.mean(cvf1_logistic), np.std(cvf1_logistic)))"
   ]
  },
  {
   "cell_type": "code",
   "execution_count": null,
   "id": "ee6c2d3b",
   "metadata": {},
   "outputs": [],
   "source": [
    "cvacc_logistic"
   ]
  },
  {
   "cell_type": "code",
   "execution_count": null,
   "id": "5be2f06c",
   "metadata": {},
   "outputs": [],
   "source": [
    "np.mean(cvacc_logistic)"
   ]
  },
  {
   "cell_type": "code",
   "execution_count": null,
   "id": "bd954f67",
   "metadata": {
    "scrolled": true
   },
   "outputs": [],
   "source": [
    "cvauc_logistic"
   ]
  },
  {
   "cell_type": "code",
   "execution_count": null,
   "id": "ca51f130",
   "metadata": {},
   "outputs": [],
   "source": [
    "np.mean(cvauc_logistic)"
   ]
  },
  {
   "cell_type": "code",
   "execution_count": null,
   "id": "bb15f8f1",
   "metadata": {},
   "outputs": [],
   "source": [
    "cvf1_logistic"
   ]
  },
  {
   "cell_type": "code",
   "execution_count": null,
   "id": "7e6d22c0",
   "metadata": {},
   "outputs": [],
   "source": [
    "np.mean(cvf1_logistic)"
   ]
  },
  {
   "cell_type": "code",
   "execution_count": null,
   "id": "e09bab37",
   "metadata": {},
   "outputs": [],
   "source": [
    "seed = 101\n",
    "kfold = StratifiedKFold(n_splits=5, shuffle=True, random_state=seed)\n",
    "\n",
    "cvacc_logistic = []\n",
    "cvauc_logistic = []\n",
    "cvf1_logistic = []\n",
    "i = 1\n",
    "\n",
    "\n",
    "for train, test in kfold.split(x22,y3):\n",
    "    \n",
    "    \n",
    "    lr_model = LogisticRegression().fit(x22[train], y3[train])\n",
    "    logistic_pred = lr_model.predict(x22[test])\n",
    "    logistic_prob = lr_model.predict_proba(x22[test])\n",
    "    logistic_acc = accuracy_score(y3[test],logistic_pred)\n",
    "    logistic_f1 = f1_score(y3[test],logistic_pred,average='macro')\n",
    "    logistic_auc = roc_auc_score(y3[test],logistic_prob,multi_class='ovo')\n",
    "    \n",
    "\n",
    "\n",
    "    cvacc_logistic.append(logistic_acc)\n",
    "    cvauc_logistic.append(logistic_auc)\n",
    "    cvf1_logistic.append(logistic_f1)\n",
    "    i+=1\n",
    "print(\"mean acc %.2f%% (+/- %.2f%%)\" % (np.mean(cvacc_logistic), np.std(cvacc_logistic)))\n",
    "print(\"mean auc %.2f%% (+/- %.2f%%)\" % (np.mean(cvauc_logistic), np.std(cvauc_logistic)))\n",
    "print(\"mean f1 %.2f%% (+/- %.2f%%)\" % (np.mean(cvf1_logistic), np.std(cvf1_logistic)))"
   ]
  },
  {
   "cell_type": "code",
   "execution_count": null,
   "id": "e5106d6b",
   "metadata": {},
   "outputs": [],
   "source": [
    "cvacc_logistic"
   ]
  },
  {
   "cell_type": "code",
   "execution_count": null,
   "id": "fb9ae9ec",
   "metadata": {},
   "outputs": [],
   "source": [
    "np.mean(cvacc_logistic)"
   ]
  },
  {
   "cell_type": "code",
   "execution_count": null,
   "id": "e4940b36",
   "metadata": {},
   "outputs": [],
   "source": [
    "cvauc_logistic"
   ]
  },
  {
   "cell_type": "code",
   "execution_count": null,
   "id": "77911d5b",
   "metadata": {},
   "outputs": [],
   "source": [
    "np.mean(cvauc_logistic)"
   ]
  },
  {
   "cell_type": "code",
   "execution_count": null,
   "id": "3ea10d11",
   "metadata": {},
   "outputs": [],
   "source": [
    "cvf1_logistic"
   ]
  },
  {
   "cell_type": "code",
   "execution_count": null,
   "id": "1bcc6bcd",
   "metadata": {},
   "outputs": [],
   "source": [
    "np.mean(cvf1_logistic)"
   ]
  },
  {
   "cell_type": "code",
   "execution_count": null,
   "id": "2819586b",
   "metadata": {},
   "outputs": [],
   "source": [
    "seed = 101\n",
    "kfold = StratifiedKFold(n_splits=5, shuffle=True, random_state=seed)\n",
    "\n",
    "cvacc_logistic = []\n",
    "cvauc_logistic = []\n",
    "cvf1_logistic = []\n",
    "i = 1\n",
    "\n",
    "\n",
    "for train, test in kfold.split(x32,y3):\n",
    "    \n",
    "    \n",
    "    lr_model = LogisticRegression().fit(x32[train], y3[train])\n",
    "    logistic_pred = lr_model.predict(x32[test])\n",
    "    logistic_prob = lr_model.predict_proba(x32[test])\n",
    "    logistic_acc = accuracy_score(y3[test],logistic_pred)\n",
    "    logistic_f1 = f1_score(y3[test],logistic_pred,average='macro')\n",
    "    logistic_auc = roc_auc_score(y3[test],logistic_prob,multi_class='ovo')\n",
    "    \n",
    "\n",
    "\n",
    "    cvacc_logistic.append(logistic_acc)\n",
    "    cvauc_logistic.append(logistic_auc)\n",
    "    cvf1_logistic.append(logistic_f1)\n",
    "    i+=1\n",
    "print(\"mean acc %.2f%% (+/- %.2f%%)\" % (np.mean(cvacc_logistic), np.std(cvacc_logistic)))\n",
    "print(\"mean auc %.2f%% (+/- %.2f%%)\" % (np.mean(cvauc_logistic), np.std(cvauc_logistic)))\n",
    "print(\"mean f1 %.2f%% (+/- %.2f%%)\" % (np.mean(cvf1_logistic), np.std(cvf1_logistic)))"
   ]
  },
  {
   "cell_type": "code",
   "execution_count": null,
   "id": "5810d941",
   "metadata": {},
   "outputs": [],
   "source": [
    "cvacc_logistic"
   ]
  },
  {
   "cell_type": "code",
   "execution_count": null,
   "id": "b864394a",
   "metadata": {},
   "outputs": [],
   "source": [
    "np.mean(cvacc_logistic)"
   ]
  },
  {
   "cell_type": "code",
   "execution_count": null,
   "id": "3984cfbd",
   "metadata": {},
   "outputs": [],
   "source": [
    "cvauc_logistic"
   ]
  },
  {
   "cell_type": "code",
   "execution_count": null,
   "id": "0a550f0a",
   "metadata": {},
   "outputs": [],
   "source": [
    "np.mean(cvauc_logistic)"
   ]
  },
  {
   "cell_type": "code",
   "execution_count": null,
   "id": "dff33a0b",
   "metadata": {},
   "outputs": [],
   "source": [
    "cvf1_logistic"
   ]
  },
  {
   "cell_type": "code",
   "execution_count": null,
   "id": "12f9c235",
   "metadata": {},
   "outputs": [],
   "source": [
    "np.mean(cvf1_logistic)"
   ]
  },
  {
   "cell_type": "code",
   "execution_count": null,
   "id": "83323d61",
   "metadata": {},
   "outputs": [],
   "source": []
  }
 ],
 "metadata": {
  "kernelspec": {
   "display_name": "Python 3 (ipykernel)",
   "language": "python",
   "name": "python3"
  },
  "language_info": {
   "codemirror_mode": {
    "name": "ipython",
    "version": 3
   },
   "file_extension": ".py",
   "mimetype": "text/x-python",
   "name": "python",
   "nbconvert_exporter": "python",
   "pygments_lexer": "ipython3",
   "version": "3.8.5"
  }
 },
 "nbformat": 4,
 "nbformat_minor": 5
}
