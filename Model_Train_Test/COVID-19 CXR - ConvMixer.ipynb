{
 "cells": [
  {
   "cell_type": "code",
   "execution_count": null,
   "metadata": {},
   "outputs": [],
   "source": [
    "import tensorflow as tf#1.x vesion\n",
    "from tensorflow import keras\n",
    "from tensorflow.keras import backend as K\n",
    "from tensorflow.keras import layers, Sequential\n",
    "from tensorflow.keras.layers import Dense, Flatten, Dropout,Conv2D, MaxPooling3D, Conv3D, MaxPooling2D, TimeDistributed,LSTM\n",
    "from tensorflow.keras.callbacks import ModelCheckpoint,ReduceLROnPlateau\n",
    "from tensorflow.keras.optimizers import Adam,SGD,RMSprop\n",
    "from tensorflow.keras.applications import VGG16, VGG19, ResNet50, Xception, InceptionV3,InceptionResNetV2\n",
    "\n",
    "\n",
    "\n",
    "import tensorflow_addons as tfa\n",
    "\n",
    "\n",
    "\n",
    "\n",
    "import os\n",
    "os.environ['CUDA_VISIBLE_DEVICES'] = \"0\"\n",
    "\n",
    "\n",
    "gpus = tf.config.experimental.list_physical_devices(device_type='GPU')\n",
    "cpus = tf.config.experimental.list_physical_devices(device_type='CPU')\n",
    "print(gpus, cpus)\n",
    "\n",
    "for gpu in gpus:\n",
    "    tf.config.experimental.set_memory_growth(gpu, True)\n",
    "\n",
    "\n",
    "import matplotlib.pyplot as plt\n",
    "import numpy as np"
   ]
  },
  {
   "cell_type": "code",
   "execution_count": null,
   "metadata": {},
   "outputs": [],
   "source": [
    "learning_rate = 0.001\n",
    "weight_decay = 0.0001\n",
    "batch_size = 32\n",
    "\n"
   ]
  },
  {
   "cell_type": "code",
   "execution_count": null,
   "metadata": {},
   "outputs": [],
   "source": [
    "img_size = (150,150)\n",
    "X = np.load(\"../../Disease Image/COVID CXR/covid_org6000_150_X.npy\")\n",
    "Y = np.load(\"../../Disease Image/COVID CXR/covid_org6000_150_Y.npy\")"
   ]
  },
  {
   "cell_type": "code",
   "execution_count": null,
   "metadata": {},
   "outputs": [],
   "source": [
    "from random import sample"
   ]
  },
  {
   "cell_type": "code",
   "execution_count": null,
   "metadata": {},
   "outputs": [],
   "source": [
    "\n",
    "index = [i for i in range(X.shape[0])]\n",
    "np.random.shuffle(index) \n",
    "\n",
    "\n",
    "X2 = X[index]/255.0\n",
    "Y2 = Y[index]"
   ]
  },
  {
   "cell_type": "code",
   "execution_count": null,
   "metadata": {},
   "outputs": [],
   "source": [
    "Y3 = tf.keras.utils.to_categorical(Y2, 2)"
   ]
  },
  {
   "cell_type": "code",
   "execution_count": null,
   "metadata": {},
   "outputs": [],
   "source": [
    "def activation_block(x):\n",
    "    x = layers.Activation(\"gelu\")(x)\n",
    "    return layers.BatchNormalization()(x)\n",
    "\n",
    "\n",
    "def conv_stem(x, filters: int, patch_size: int):\n",
    "    x = layers.Conv2D(filters, kernel_size=patch_size, strides=patch_size)(x)\n",
    "    return activation_block(x)\n",
    "\n",
    "\n",
    "def conv_mixer_block(x, filters: int, kernel_size: int):\n",
    "    # Depthwise convolution.\n",
    "    x0 = x\n",
    "    x = layers.DepthwiseConv2D(kernel_size=kernel_size, padding=\"same\")(x)\n",
    "    x = layers.Add()([activation_block(x), x0])  # Residual.\n",
    "\n",
    "    # Pointwise convolution.\n",
    "    x = layers.Conv2D(filters, kernel_size=1)(x)\n",
    "    x = activation_block(x)\n",
    "\n",
    "    return x\n",
    "\n",
    "\n",
    "def get_conv_mixer_256_8(\n",
    "    image_size=150, filters=256, depth=8, kernel_size=5, patch_size=16, num_classes=2\n",
    "):\n",
    "\n",
    "    inputs = keras.Input((image_size, image_size, 3))\n",
    "\n",
    "\n",
    "    # Extract patch embeddings.\n",
    "    x = conv_stem(inputs, filters, patch_size)\n",
    "\n",
    "    # ConvMixer blocks.\n",
    "    for _ in range(depth):\n",
    "        x = conv_mixer_block(x, filters, kernel_size)\n",
    "\n",
    "    # Classification block.\n",
    "    x = layers.GlobalAvgPool2D()(x)\n",
    "    outputs = layers.Dense(num_classes, activation=\"softmax\")(x)\n",
    "\n",
    "    return keras.Model(inputs, outputs)\n"
   ]
  },
  {
   "cell_type": "code",
   "execution_count": null,
   "metadata": {},
   "outputs": [],
   "source": [
    "from sklearn.model_selection import StratifiedKFold\n",
    "from sklearn.metrics import roc_auc_score\n",
    "from tensorflow.keras.callbacks import ReduceLROnPlateau,EarlyStopping\n",
    "reduce_lr = ReduceLROnPlateau(monitor='val_accuracy', factor=0.1,\n",
    "                              patience=10)\n",
    "earlystop = EarlyStopping(monitor='val_accuracy', patience=15)"
   ]
  },
  {
   "cell_type": "code",
   "execution_count": null,
   "metadata": {
    "scrolled": true
   },
   "outputs": [],
   "source": [
    "seed = 101\n",
    "kfold = StratifiedKFold(n_splits=5, shuffle=True, random_state=seed)\n",
    "cvacc = []\n",
    "cvauc = []\n",
    "\n",
    "i = 1\n",
    "for train, test in kfold.split(X2,Y2):\n",
    "    model = get_conv_mixer_256_8()\n",
    "    optimizer = tfa.optimizers.AdamW(\n",
    "    learning_rate=learning_rate, weight_decay=weight_decay\n",
    "    )\n",
    "\n",
    "    model.compile(\n",
    "        optimizer=optimizer,\n",
    "        loss=\"categorical_crossentropy\",\n",
    "        metrics=[\"accuracy\"],\n",
    "    )\n",
    "    filepath = \"../Data/models/150_ConvMix_{0}_lung_16patch.h5\".format(str(i))\n",
    "    if os.path.exists(filepath):\n",
    "        os.remove(filepath)\n",
    "    checkpoint = keras.callbacks.ModelCheckpoint(\n",
    "        filepath, save_weights_only=True, save_best_only=True, verbose=1,monitor='val_accuracy',mode='max'\n",
    "    )\n",
    "    \n",
    "\n",
    "    model.fit(X2[train], Y3[train], validation_split=0.2,epochs=300, batch_size=32, verbose=1,shuffle=True,callbacks=[checkpoint,earlystop])\n",
    "    model.load_weights(filepath)\n",
    "    # evaluate the model\n",
    "    evals = model.evaluate(X2[test], Y3[test], verbose=1)\n",
    "    y_pred = model.predict(X2[test])\n",
    "    auc = roc_auc_score(Y3[test],y_pred)\n",
    "    with open('../Data/models/50_ConvMixer_{0}_lung_16patch.csv'.format(str(i)),'w') as file:\n",
    "        file.write('true_label,predict_label'+'\\n')\n",
    "        for a,b in zip(Y2[test],y_pred):\n",
    "            file.write(str(a) + ','+str(np.argmax(b))+'\\n')\n",
    "    acc = evals[1]\n",
    "    \n",
    "    \n",
    "    print(\"%s: %.2f%%\" % (model.metrics_names[1], acc))\n",
    "    print(\"auc: %.2f\"%(auc))\n",
    "\n",
    "    cvacc.append(acc*100)\n",
    "    cvauc.append(auc)\n",
    "\n",
    "    i+=1\n",
    "print(\"mean acc %.2f%% (+/- %.2f%%)\" % (np.mean(cvacc), np.std(cvacc)))\n",
    "print(\"mean auc %.2f%% (+/- %.2f%%)\" % (np.mean(cvauc), np.std(cvauc)))\n"
   ]
  },
  {
   "cell_type": "code",
   "execution_count": null,
   "metadata": {},
   "outputs": [],
   "source": [
    "cvacc"
   ]
  },
  {
   "cell_type": "code",
   "execution_count": null,
   "metadata": {},
   "outputs": [],
   "source": [
    "np.mean(cvacc)"
   ]
  },
  {
   "cell_type": "code",
   "execution_count": null,
   "metadata": {},
   "outputs": [],
   "source": [
    "cvauc"
   ]
  },
  {
   "cell_type": "code",
   "execution_count": null,
   "metadata": {},
   "outputs": [],
   "source": [
    "np.mean(cvauc)"
   ]
  },
  {
   "cell_type": "code",
   "execution_count": null,
   "metadata": {},
   "outputs": [],
   "source": [
    "import numpy as np\n",
    "import pandas as pd\n",
    "from sklearn.metrics import confusion_matrix,accuracy_score,f1_score,roc_auc_score,recall_score,precision_score"
   ]
  },
  {
   "cell_type": "code",
   "execution_count": null,
   "metadata": {},
   "outputs": [],
   "source": [
    "def calculate_metric(gt, pred): \n",
    "    pred2 = []\n",
    "    for i in pred:\n",
    "        if i>0.5:\n",
    "            pred2.append(1)\n",
    "        else:\n",
    "            pred2.append(0)\n",
    "    confusion = confusion_matrix(gt,pred2)\n",
    "    TP = confusion[1, 1]\n",
    "    TN = confusion[0, 0]\n",
    "    FP = confusion[0, 1]\n",
    "    FN = confusion[1, 0]\n",
    "    acc = (TP+TN)/float(TP+TN+FP+FN)\n",
    "    auc = roc_auc_score(gt,pred)\n",
    "    precision = TP/float(TP+FP)\n",
    "    f1_score_ = f1_score(gt,pred2)\n",
    "    sensitivity = TP / float(TP+FN)\n",
    "    specificity = TN / float(TN+FP)\n",
    "    \n",
    "    return round(acc,4),round(auc,4),round(f1_score_,4), round(precision,4),round(sensitivity,4), round(specificity,4)"
   ]
  },
  {
   "cell_type": "code",
   "execution_count": null,
   "metadata": {
    "scrolled": true
   },
   "outputs": [],
   "source": [
    "df1 = pd.read_csv('../Data/models/50_ConvMixer_1_lung_16patch.csv')\n",
    "\n",
    "\n",
    "calculate_metric(df1['true_label'],df1['predict_label'])"
   ]
  },
  {
   "cell_type": "code",
   "execution_count": null,
   "metadata": {},
   "outputs": [],
   "source": [
    "df2 = pd.read_csv('../Data/models/50_ConvMixer_2_lung_16patch.csv')\n",
    "\n",
    "\n",
    "calculate_metric(df2['true_label'],df2['predict_label'])"
   ]
  },
  {
   "cell_type": "code",
   "execution_count": null,
   "metadata": {},
   "outputs": [],
   "source": [
    "df3 = pd.read_csv('../Data/models/50_ConvMixer_3_lung_16patch.csv')\n",
    "\n",
    "calculate_metric(df3['true_label'],df3['predict_label'])"
   ]
  },
  {
   "cell_type": "code",
   "execution_count": null,
   "metadata": {},
   "outputs": [],
   "source": [
    "df4 = pd.read_csv('../Data/models/50_ConvMixer_4_lung_16patch.csv')\n",
    "\n",
    "\n",
    "calculate_metric(df4['true_label'],df4['predict_label'])"
   ]
  },
  {
   "cell_type": "code",
   "execution_count": null,
   "metadata": {
    "scrolled": true
   },
   "outputs": [],
   "source": [
    "df5 = pd.read_csv('../Data/models/50_ConvMixer_5_lung_16patch.csv')\n",
    "\n",
    "\n",
    "calculate_metric(df5['true_label'],df5['predict_label'])"
   ]
  },
  {
   "cell_type": "code",
   "execution_count": null,
   "metadata": {},
   "outputs": [],
   "source": []
  }
 ],
 "metadata": {
  "kernelspec": {
   "display_name": "Python 3 (ipykernel)",
   "language": "python",
   "name": "python3"
  },
  "language_info": {
   "codemirror_mode": {
    "name": "ipython",
    "version": 3
   },
   "file_extension": ".py",
   "mimetype": "text/x-python",
   "name": "python",
   "nbconvert_exporter": "python",
   "pygments_lexer": "ipython3",
   "version": "3.8.5"
  }
 },
 "nbformat": 4,
 "nbformat_minor": 4
}
