{
 "cells": [
  {
   "cell_type": "code",
   "execution_count": null,
   "metadata": {},
   "outputs": [],
   "source": [
    "import tensorflow as tf\n",
    "from tensorflow import keras\n",
    "from tensorflow.keras import backend as K\n",
    "from tensorflow.keras import layers, Sequential\n",
    "from tensorflow.keras.layers import Dense, Flatten, Dropout,Conv2D, MaxPooling3D, Conv3D, MaxPooling2D, TimeDistributed,LSTM\n",
    "from tensorflow.keras.callbacks import ModelCheckpoint,ReduceLROnPlateau\n",
    "from tensorflow.keras.optimizers import Adam,SGD,RMSprop\n",
    "from tensorflow.keras.applications import ResNet50, DenseNet121, EfficientNetB0\n",
    "\n",
    "import os\n",
    "os.environ['CUDA_VISIBLE_DEVICES'] = \"0\"\n",
    "\n",
    "\n",
    "gpus = tf.config.experimental.list_physical_devices(device_type='GPU')\n",
    "cpus = tf.config.experimental.list_physical_devices(device_type='CPU')\n",
    "print(gpus, cpus)\n",
    "\n",
    "for gpu in gpus:\n",
    "    tf.config.experimental.set_memory_growth(gpu, True)\n",
    "\n",
    "\n",
    "import matplotlib.pyplot as plt\n",
    "\n",
    "import numpy as np\n",
    "import tensorflow_addons as tfa"
   ]
  },
  {
   "cell_type": "code",
   "execution_count": null,
   "metadata": {},
   "outputs": [],
   "source": [
    "\n",
    "img_size = (150,150)\n",
    "X = np.load(\"../Data/COVID CXR/covid_org6000_150_X.npy\")\n",
    "Y = np.load(\"../Data/COVID CXR/covid_org6000_150_Y.npy\")"
   ]
  },
  {
   "cell_type": "code",
   "execution_count": null,
   "metadata": {},
   "outputs": [],
   "source": [
    "\n",
    "index = [i for i in range(X.shape[0])]\n",
    "np.random.shuffle(index) # 打乱索引\n",
    "\n",
    "\n",
    "X2 = X[index]/255.0\n",
    "Y2 = Y[index]"
   ]
  },
  {
   "cell_type": "code",
   "execution_count": null,
   "metadata": {},
   "outputs": [],
   "source": [
    "Y3 = tf.keras.utils.to_categorical(Y2, 2)"
   ]
  },
  {
   "cell_type": "code",
   "execution_count": null,
   "metadata": {},
   "outputs": [],
   "source": [
    "def build_model():\n",
    "    inputs = layers.Input(shape=(150, 150, 3))\n",
    "    #model = ResNet50(include_top=False, input_tensor=inputs, weights = None)\n",
    "    model = DenseNet121(include_top=False, input_tensor=inputs, weights = None)\n",
    "    #model = EfficientNetB0(include_top=False, input_tensor=inputs, weights=None)\n",
    "\n",
    "\n",
    "\n",
    "    # Rebuild top\n",
    "    x = layers.GlobalAveragePooling2D(name=\"avg_pool\")(model.output)\n",
    "    \n",
    "    x = layers.BatchNormalization()(x)\n",
    "\n",
    "    outputs = layers.Dense(2, activation=\"softmax\", name=\"pred\")(x)\n",
    "\n",
    "    # Compile\n",
    "\n",
    "    model = tf.keras.Model(inputs, outputs, name=\"DenseNet\")\n",
    "    optimizer = tf.keras.optimizers.Adam(learning_rate=1e-3)\n",
    "    model.compile(\n",
    "        optimizer=optimizer, loss=\"categorical_crossentropy\", metrics=[\"accuracy\"]\n",
    "    )\n",
    "    return model"
   ]
  },
  {
   "cell_type": "code",
   "execution_count": null,
   "metadata": {},
   "outputs": [],
   "source": [
    "from sklearn.model_selection import StratifiedKFold\n",
    "from sklearn.metrics import roc_auc_score\n",
    "from tensorflow.keras.callbacks import ReduceLROnPlateau,EarlyStopping\n",
    "\n",
    "reduce_lr = ReduceLROnPlateau(monitor='val_accuracy', factor=0.1,\n",
    "                              patience=10)\n",
    "earlystop = EarlyStopping(monitor='val_accuracy', patience=15)"
   ]
  },
  {
   "cell_type": "code",
   "execution_count": null,
   "metadata": {
    "scrolled": true
   },
   "outputs": [],
   "source": [
    "seed = 101\n",
    "kfold = StratifiedKFold(n_splits=5, shuffle=True, random_state=seed)\n",
    "cvacc = []\n",
    "cvauc = []\n",
    "i = 1\n",
    "\n",
    "for train, test in kfold.split(X2,Y2):\n",
    "\n",
    "    model = build_model()\n",
    "    # checkpoint\n",
    "    filepath = \"../Data/models/150_cnn{0}_COVID19_densenet121.h5\".format(str(i))\n",
    "    if os.path.exists(filepath):\n",
    "        os.remove(filepath)\n",
    "\n",
    "    checkpoint = ModelCheckpoint(filepath, monitor='val_accuracy', verbose=1, save_best_only=True, mode='max')\n",
    "    callbacks_list = [checkpoint,earlystop]\n",
    "\n",
    "    model.fit(X2[train], Y3[train],validation_split=0.2, epochs=300, batch_size=32, verbose=1,shuffle=True,callbacks = callbacks_list)\n",
    "    # evaluate the model\n",
    "    model.load_weights(filepath)\n",
    "    acc = model.evaluate(X2[test], Y3[test], verbose=1)\n",
    "    y_pred = model.predict(X2[test])\n",
    "    with open('../Data/models/150_{0}_COVID19_cnn_densenet121.csv'.format(str(i)),'w') as file:\n",
    "        file.write('true_label,predict_label'+'\\n')\n",
    "        for a,b in zip(Y2[test],y_pred):\n",
    "            file.write(str(a) + ','+str(np.argmax(b))+'\\n')\n",
    "    auc = roc_auc_score(Y3[test],y_pred)\n",
    "    \n",
    "    print(\"%s: %.2f%%\" % (model.metrics_names[1], acc[1]*100))\n",
    "    print(\"auc: %.2f\"%(auc))\n",
    "    cvacc.append(acc[1] * 100)\n",
    "    cvauc.append(auc)\n",
    "    i+=1\n",
    "print(\"mean acc %.2f%% (+/- %.2f%%)\" % (np.mean(cvacc), np.std(cvacc)))\n",
    "print(\"mean auc %.2f%% (+/- %.2f%%)\" % (np.mean(cvauc), np.std(cvauc)))"
   ]
  },
  {
   "cell_type": "code",
   "execution_count": null,
   "metadata": {},
   "outputs": [],
   "source": [
    "cvacc"
   ]
  },
  {
   "cell_type": "code",
   "execution_count": null,
   "metadata": {},
   "outputs": [],
   "source": [
    "np.mean(cvacc)"
   ]
  },
  {
   "cell_type": "code",
   "execution_count": null,
   "metadata": {},
   "outputs": [],
   "source": [
    "cvauc"
   ]
  },
  {
   "cell_type": "code",
   "execution_count": null,
   "metadata": {},
   "outputs": [],
   "source": [
    "np.mean(cvauc)"
   ]
  },
  {
   "cell_type": "code",
   "execution_count": null,
   "metadata": {},
   "outputs": [],
   "source": [
    "import numpy as np\n",
    "import pandas as pd\n",
    "from sklearn.metrics import confusion_matrix,accuracy_score,f1_score,roc_auc_score,recall_score,precision_score"
   ]
  },
  {
   "cell_type": "code",
   "execution_count": null,
   "metadata": {},
   "outputs": [],
   "source": [
    "def calculate_metric(gt, pred): \n",
    "    pred2 = []\n",
    "    for i in pred:\n",
    "        if i>0.5:\n",
    "            pred2.append(1)\n",
    "        else:\n",
    "            pred2.append(0)\n",
    "    confusion = confusion_matrix(gt,pred2)\n",
    "    TP = confusion[1, 1]\n",
    "    TN = confusion[0, 0]\n",
    "    FP = confusion[0, 1]\n",
    "    FN = confusion[1, 0]\n",
    "    acc = (TP+TN)/float(TP+TN+FP+FN)\n",
    "    auc = roc_auc_score(gt,pred)\n",
    "    precision = TP/float(TP+FP)\n",
    "    f1_score_ = f1_score(gt,pred2)\n",
    "    sensitivity = TP / float(TP+FN)\n",
    "    specificity = TN / float(TN+FP)\n",
    "    \n",
    "    return round(acc,4),round(auc,4),round(f1_score_,4), round(precision,4),round(sensitivity,4), round(specificity,4)"
   ]
  },
  {
   "cell_type": "code",
   "execution_count": null,
   "metadata": {
    "scrolled": true
   },
   "outputs": [],
   "source": [
    "df1 = pd.read_csv('../Data/models/150_1_COVID19_cnn_densenet121.csv')\n",
    "\n",
    "\n",
    "calculate_metric(df1['true_label'],df1['predict_label'])"
   ]
  },
  {
   "cell_type": "code",
   "execution_count": null,
   "metadata": {},
   "outputs": [],
   "source": [
    "df2 = pd.read_csv('../Data/models/150_2_COVID19_cnn_densenet121.csv')\n",
    "\n",
    "\n",
    "calculate_metric(df2['true_label'],df2['predict_label'])"
   ]
  },
  {
   "cell_type": "code",
   "execution_count": null,
   "metadata": {},
   "outputs": [],
   "source": [
    "df3 = pd.read_csv('../Data/models/150_3_COVID19_cnn_densenet121.csv')\n",
    "\n",
    "\n",
    "calculate_metric(df3['true_label'],df3['predict_label'])"
   ]
  },
  {
   "cell_type": "code",
   "execution_count": null,
   "metadata": {},
   "outputs": [],
   "source": [
    "df4 = pd.read_csv('../Data/models/150_4_COVID19_cnn_densenet121.csv')\n",
    "\n",
    "calculate_metric(df4['true_label'],df4['predict_label'])"
   ]
  },
  {
   "cell_type": "code",
   "execution_count": null,
   "metadata": {
    "scrolled": true
   },
   "outputs": [],
   "source": [
    "df5 = pd.read_csv('../Data/models/150_5_COVID19_cnn_densenet121.csv')\n",
    "\n",
    "\n",
    "calculate_metric(df5['true_label'],df5['predict_label'])"
   ]
  },
  {
   "cell_type": "code",
   "execution_count": null,
   "metadata": {},
   "outputs": [],
   "source": []
  }
 ],
 "metadata": {
  "kernelspec": {
   "display_name": "Python 3 (ipykernel)",
   "language": "python",
   "name": "python3"
  },
  "language_info": {
   "codemirror_mode": {
    "name": "ipython",
    "version": 3
   },
   "file_extension": ".py",
   "mimetype": "text/x-python",
   "name": "python",
   "nbconvert_exporter": "python",
   "pygments_lexer": "ipython3",
   "version": "3.8.5"
  }
 },
 "nbformat": 4,
 "nbformat_minor": 4
}
