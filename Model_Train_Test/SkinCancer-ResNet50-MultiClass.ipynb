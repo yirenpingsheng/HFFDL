{
 "cells": [
  {
   "cell_type": "code",
   "execution_count": null,
   "metadata": {
    "scrolled": true
   },
   "outputs": [],
   "source": [
    "import tensorflow as tf#1.x vesion\n",
    "from tensorflow import keras\n",
    "from tensorflow.keras import backend as K\n",
    "from tensorflow.keras import layers, Sequential\n",
    "from tensorflow.keras.layers import Dense, Flatten, Dropout,Conv2D, MaxPooling3D, Conv3D, MaxPooling2D, TimeDistributed,LSTM\n",
    "from tensorflow.keras.callbacks import ModelCheckpoint,ReduceLROnPlateau\n",
    "from tensorflow.keras.optimizers import Adam,SGD,RMSprop\n",
    "from tensorflow.keras.applications import ResNet50,DenseNet121,EfficientNetB0\n",
    "# https://blog.csdn.net/heiheiya/article/details/102776353\n",
    "import os\n",
    "os.environ['CUDA_VISIBLE_DEVICES'] = \"0\"\n",
    "\"\"\"\n",
    "#tensorflow 2.x\n",
    "gpus = tf.config.experimental.list_physical_devices(device_type='GPU')\n",
    "cpus = tf.config.experimental.list_physical_devices(device_type='CPU')\n",
    "print(gpus, cpus)\n",
    "\n",
    "for gpu in gpus:\n",
    "    tf.config.experimental.set_memory_growth(gpu, True)\n",
    "\"\"\"\n",
    "#tensorflow 1.x\n",
    "config = tf.ConfigProto()\n",
    "config.gpu_options.allow_growth = True\n",
    "session = tf.Session(config=config)\n",
    "\n",
    "\n",
    "import matplotlib.pyplot as plt\n",
    "\n",
    "import numpy as np\n"
   ]
  },
  {
   "cell_type": "code",
   "execution_count": null,
   "metadata": {},
   "outputs": [],
   "source": [
    "num_classes = 4\n",
    "img_size = (150,150)\n",
    "X = np.load(\"../Data/Skin_Cancer/X_Skin_ISIC_Multi_150.npy\")\n",
    "Y = np.load(\"../Data/Skin_Cancer/Y_Skin_ISIC_Multi_150.npy\")"
   ]
  },
  {
   "cell_type": "code",
   "execution_count": null,
   "metadata": {},
   "outputs": [],
   "source": [
    "\n",
    "index = [i for i in range(X.shape[0])]\n",
    "np.random.shuffle(index) \n",
    "\n",
    "\n",
    "X2 = X[index]/255.0\n",
    "Y2 = Y[index]"
   ]
  },
  {
   "cell_type": "code",
   "execution_count": null,
   "metadata": {},
   "outputs": [],
   "source": [
    "from sklearn.preprocessing import LabelEncoder,LabelBinarizer\n",
    "label_encode = LabelEncoder()\n",
    "Y3 = label_encode.fit_transform(Y2)"
   ]
  },
  {
   "cell_type": "code",
   "execution_count": null,
   "metadata": {},
   "outputs": [],
   "source": [
    "def build_model():\n",
    "    inputs = layers.Input(shape=(150, 150, 3))\n",
    "\n",
    "    model = ResNet50(include_top=False, input_tensor=inputs, weights=None)\n",
    "    #model = DenseNet121(include_top=False, input_tensor=inputs, weights = None)\n",
    "    #model = EfficientNetB0(include_top=False, input_tensor=inputs, weights=None)\n",
    "\n",
    "\n",
    "    # Rebuild top\n",
    "    x = layers.GlobalAveragePooling2D(name=\"avg_pool\")(model.output)\n",
    "    \n",
    "    x = layers.BatchNormalization()(x)\n",
    "\n",
    "\n",
    "    outputs = layers.Dense(num_classes, activation=\"softmax\", name=\"pred\")(x)\n",
    "\n",
    "    # Compile\n",
    "\n",
    "    model = tf.keras.Model(inputs, outputs, name=\"ResNet50\")\n",
    "    optimizer = tf.keras.optimizers.Adam(lr=1e-3)\n",
    "    model.compile(\n",
    "        optimizer=optimizer, loss=\"sparse_categorical_crossentropy\", metrics=[\"acc\"]\n",
    "    )\n",
    "    return model"
   ]
  },
  {
   "cell_type": "code",
   "execution_count": null,
   "metadata": {},
   "outputs": [],
   "source": [
    "from sklearn.model_selection import StratifiedKFold\n",
    "from sklearn.metrics import roc_auc_score,f1_score,accuracy_score,confusion_matrix,precision_score,recall_score\n",
    "from tensorflow.keras.callbacks import ReduceLROnPlateau,EarlyStopping\n",
    "\n",
    "reduce_lr = ReduceLROnPlateau(monitor='val_acc', factor=0.1,\n",
    "                              patience=10)\n",
    "earlystop = EarlyStopping(monitor='val_acc', patience=15)"
   ]
  },
  {
   "cell_type": "code",
   "execution_count": null,
   "metadata": {
    "scrolled": true
   },
   "outputs": [],
   "source": [
    "seed = 101\n",
    "kfold = StratifiedKFold(n_splits=5, shuffle=True, random_state=seed)\n",
    "cvacc = []\n",
    "cvauc = []\n",
    "cvf1 = []\n",
    "i = 1\n",
    "\n",
    "for train, test in kfold.split(X2,Y2):\n",
    "\n",
    "    model = build_model()\n",
    "    # checkpoint\n",
    "    filepath = \"../Data/models/150_cnn{0}_skin_multi_resnet50.h5\".format(str(i))\n",
    "    if os.path.exists(filepath):\n",
    "        os.remove(filepath)\n",
    "\n",
    "    checkpoint = ModelCheckpoint(filepath, monitor='val_acc', verbose=1, save_best_only=True, mode='max')\n",
    "    callbacks_list = [checkpoint,earlystop]\n",
    "\n",
    "    model.fit(X2[train], Y3[train],validation_split=0.2, epochs=300, batch_size=32, verbose=1,shuffle=True,callbacks = callbacks_list)\n",
    "    # evaluate the model\n",
    "    model.load_weights(filepath)\n",
    "    \n",
    "    y_pred = model.predict(X2[test])\n",
    "    acc = accuracy_score(Y3[test],[np.argmax(x) for x in y_pred])\n",
    "    f1 = f1_score(Y3[test],[np.argmax(x) for x in y_pred],average='macro')\n",
    " \n",
    "    auc = roc_auc_score(Y3[test],y_pred,multi_class='ovo')\n",
    "    precisoin = precision_score(Y3[test],[np.argmax(x) for x in y_pred],average='macro')\n",
    "    recall = recall_score(Y3[test],[np.argmax(x) for x in y_pred],average='macro')\n",
    "    \n",
    "    print(\"acc: %.2f%%\" % (acc))\n",
    "    print(\"auc: %.2f\"%(auc))\n",
    "    print(\"f1: %.2f\"%(f1))\n",
    "    print('precision:%.2f'%(precision))\n",
    "    print('recall:%.2f'%(recall))\n",
    "    print(\"confusion matrix:\",confusion_matrix(Y3[test],[np.argmax(x) for x in y_pred]))\n",
    "    \n",
    "    cvacc.append(acc)\n",
    "    cvauc.append(auc)\n",
    "    cvf1.append(f1)\n",
    "    cvprecision.append(precision)\n",
    "    cvrecall.append(recall)\n",
    "\n",
    "    i+=1\n",
    "print(\"mean acc %.2f%% (+/- %.2f%%)\" % (np.mean(cvacc), np.std(cvacc)))\n",
    "print(\"mean auc %.2f%% (+/- %.2f%%)\" % (np.mean(cvauc), np.std(cvauc)))\n",
    "print(\"mean f1 %.2f%% (+/- %.2f%%)\" % (np.mean(cvf1), np.std(cvf1)))\n",
    "print(\"mean precision %.2f%% (+/- %.2f%%)\" % (np.mean(cvprecision), np.std(cvprecision)))\n",
    "print(\"mean recall %.2f%% (+/- %.2f%%)\" % (np.mean(cvrecall), np.std(cvrecall)))"
   ]
  },
  {
   "cell_type": "code",
   "execution_count": null,
   "metadata": {},
   "outputs": [],
   "source": [
    "cvacc"
   ]
  },
  {
   "cell_type": "code",
   "execution_count": null,
   "metadata": {},
   "outputs": [],
   "source": [
    "np.mean(cvacc)"
   ]
  },
  {
   "cell_type": "code",
   "execution_count": null,
   "metadata": {},
   "outputs": [],
   "source": [
    "cvauc"
   ]
  },
  {
   "cell_type": "code",
   "execution_count": null,
   "metadata": {},
   "outputs": [],
   "source": [
    "np.mean(cvauc)"
   ]
  },
  {
   "cell_type": "code",
   "execution_count": null,
   "metadata": {},
   "outputs": [],
   "source": [
    "cvf1"
   ]
  },
  {
   "cell_type": "code",
   "execution_count": null,
   "metadata": {},
   "outputs": [],
   "source": [
    "np.mean(cvf1)"
   ]
  },
  {
   "cell_type": "code",
   "execution_count": null,
   "metadata": {},
   "outputs": [],
   "source": []
  }
 ],
 "metadata": {
  "kernelspec": {
   "display_name": "Python 3 (ipykernel)",
   "language": "python",
   "name": "python3"
  },
  "language_info": {
   "codemirror_mode": {
    "name": "ipython",
    "version": 3
   },
   "file_extension": ".py",
   "mimetype": "text/x-python",
   "name": "python",
   "nbconvert_exporter": "python",
   "pygments_lexer": "ipython3",
   "version": "3.8.5"
  }
 },
 "nbformat": 4,
 "nbformat_minor": 4
}
